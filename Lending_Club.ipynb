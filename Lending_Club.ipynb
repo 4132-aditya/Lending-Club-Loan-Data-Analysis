{
 "cells": [
  {
   "cell_type": "code",
   "execution_count": 1,
   "metadata": {
    "id": "dyA3zArhKNw2"
   },
   "outputs": [],
   "source": [
    "\n",
    "# import libraries\n",
    "import pandas as pd\n",
    "import numpy as np\n",
    "import matplotlib.pyplot as plt\n",
    "import seaborn as sns\n",
    "from sklearn.model_selection import train_test_split\n",
    "from sklearn.preprocessing import MinMaxScaler\n",
    "from tensorflow.keras.models import Sequential\n",
    "from tensorflow.keras.layers import Dense,Dropout\n",
    "from tensorflow.keras.callbacks import EarlyStopping\n",
    "from tensorflow.keras.models import load_model\n",
    "from sklearn.metrics import confusion_matrix, classification_report\n",
    "from pickle import dump, load\n",
    "%matplotlib inline"
   ]
  },
  {
   "cell_type": "code",
   "execution_count": 2,
   "metadata": {
    "id": "bLpUlMkdKbQQ"
   },
   "outputs": [],
   "source": [
    "df = pd.read_csv('loan_data.csv')"
   ]
  },
  {
   "cell_type": "code",
   "execution_count": 3,
   "metadata": {
    "colab": {
     "base_uri": "https://localhost:8080/",
     "height": 561
    },
    "id": "Z9xwZrTNMU_o",
    "outputId": "6fad0b51-9523-4217-a5c3-f24e847810bb"
   },
   "outputs": [
    {
     "name": "stdout",
     "output_type": "stream",
     "text": [
      "<class 'pandas.core.frame.DataFrame'>\n",
      "RangeIndex: 9578 entries, 0 to 9577\n",
      "Data columns (total 14 columns):\n",
      " #   Column             Non-Null Count  Dtype  \n",
      "---  ------             --------------  -----  \n",
      " 0   credit.policy      9578 non-null   int64  \n",
      " 1   purpose            9578 non-null   object \n",
      " 2   int.rate           9578 non-null   float64\n",
      " 3   installment        9578 non-null   float64\n",
      " 4   log.annual.inc     9578 non-null   float64\n",
      " 5   dti                9578 non-null   float64\n",
      " 6   fico               9578 non-null   int64  \n",
      " 7   days.with.cr.line  9578 non-null   float64\n",
      " 8   revol.bal          9578 non-null   int64  \n",
      " 9   revol.util         9578 non-null   float64\n",
      " 10  inq.last.6mths     9578 non-null   int64  \n",
      " 11  delinq.2yrs        9578 non-null   int64  \n",
      " 12  pub.rec            9578 non-null   int64  \n",
      " 13  not.fully.paid     9578 non-null   int64  \n",
      "dtypes: float64(6), int64(7), object(1)\n",
      "memory usage: 1.0+ MB\n"
     ]
    },
    {
     "data": {
      "text/html": [
       "<div>\n",
       "<style scoped>\n",
       "    .dataframe tbody tr th:only-of-type {\n",
       "        vertical-align: middle;\n",
       "    }\n",
       "\n",
       "    .dataframe tbody tr th {\n",
       "        vertical-align: top;\n",
       "    }\n",
       "\n",
       "    .dataframe thead th {\n",
       "        text-align: right;\n",
       "    }\n",
       "</style>\n",
       "<table border=\"1\" class=\"dataframe\">\n",
       "  <thead>\n",
       "    <tr style=\"text-align: right;\">\n",
       "      <th></th>\n",
       "      <th>credit.policy</th>\n",
       "      <th>purpose</th>\n",
       "      <th>int.rate</th>\n",
       "      <th>installment</th>\n",
       "      <th>log.annual.inc</th>\n",
       "      <th>dti</th>\n",
       "      <th>fico</th>\n",
       "      <th>days.with.cr.line</th>\n",
       "      <th>revol.bal</th>\n",
       "      <th>revol.util</th>\n",
       "      <th>inq.last.6mths</th>\n",
       "      <th>delinq.2yrs</th>\n",
       "      <th>pub.rec</th>\n",
       "      <th>not.fully.paid</th>\n",
       "    </tr>\n",
       "  </thead>\n",
       "  <tbody>\n",
       "    <tr>\n",
       "      <th>0</th>\n",
       "      <td>1</td>\n",
       "      <td>debt_consolidation</td>\n",
       "      <td>0.1189</td>\n",
       "      <td>829.10</td>\n",
       "      <td>11.350407</td>\n",
       "      <td>19.48</td>\n",
       "      <td>737</td>\n",
       "      <td>5639.958333</td>\n",
       "      <td>28854</td>\n",
       "      <td>52.1</td>\n",
       "      <td>0</td>\n",
       "      <td>0</td>\n",
       "      <td>0</td>\n",
       "      <td>0</td>\n",
       "    </tr>\n",
       "    <tr>\n",
       "      <th>1</th>\n",
       "      <td>1</td>\n",
       "      <td>credit_card</td>\n",
       "      <td>0.1071</td>\n",
       "      <td>228.22</td>\n",
       "      <td>11.082143</td>\n",
       "      <td>14.29</td>\n",
       "      <td>707</td>\n",
       "      <td>2760.000000</td>\n",
       "      <td>33623</td>\n",
       "      <td>76.7</td>\n",
       "      <td>0</td>\n",
       "      <td>0</td>\n",
       "      <td>0</td>\n",
       "      <td>0</td>\n",
       "    </tr>\n",
       "    <tr>\n",
       "      <th>2</th>\n",
       "      <td>1</td>\n",
       "      <td>debt_consolidation</td>\n",
       "      <td>0.1357</td>\n",
       "      <td>366.86</td>\n",
       "      <td>10.373491</td>\n",
       "      <td>11.63</td>\n",
       "      <td>682</td>\n",
       "      <td>4710.000000</td>\n",
       "      <td>3511</td>\n",
       "      <td>25.6</td>\n",
       "      <td>1</td>\n",
       "      <td>0</td>\n",
       "      <td>0</td>\n",
       "      <td>0</td>\n",
       "    </tr>\n",
       "    <tr>\n",
       "      <th>3</th>\n",
       "      <td>1</td>\n",
       "      <td>debt_consolidation</td>\n",
       "      <td>0.1008</td>\n",
       "      <td>162.34</td>\n",
       "      <td>11.350407</td>\n",
       "      <td>8.10</td>\n",
       "      <td>712</td>\n",
       "      <td>2699.958333</td>\n",
       "      <td>33667</td>\n",
       "      <td>73.2</td>\n",
       "      <td>1</td>\n",
       "      <td>0</td>\n",
       "      <td>0</td>\n",
       "      <td>0</td>\n",
       "    </tr>\n",
       "    <tr>\n",
       "      <th>4</th>\n",
       "      <td>1</td>\n",
       "      <td>credit_card</td>\n",
       "      <td>0.1426</td>\n",
       "      <td>102.92</td>\n",
       "      <td>11.299732</td>\n",
       "      <td>14.97</td>\n",
       "      <td>667</td>\n",
       "      <td>4066.000000</td>\n",
       "      <td>4740</td>\n",
       "      <td>39.5</td>\n",
       "      <td>0</td>\n",
       "      <td>1</td>\n",
       "      <td>0</td>\n",
       "      <td>0</td>\n",
       "    </tr>\n",
       "  </tbody>\n",
       "</table>\n",
       "</div>"
      ],
      "text/plain": [
       "   credit.policy             purpose  int.rate  installment  log.annual.inc  \\\n",
       "0              1  debt_consolidation    0.1189       829.10       11.350407   \n",
       "1              1         credit_card    0.1071       228.22       11.082143   \n",
       "2              1  debt_consolidation    0.1357       366.86       10.373491   \n",
       "3              1  debt_consolidation    0.1008       162.34       11.350407   \n",
       "4              1         credit_card    0.1426       102.92       11.299732   \n",
       "\n",
       "     dti  fico  days.with.cr.line  revol.bal  revol.util  inq.last.6mths  \\\n",
       "0  19.48   737        5639.958333      28854        52.1               0   \n",
       "1  14.29   707        2760.000000      33623        76.7               0   \n",
       "2  11.63   682        4710.000000       3511        25.6               1   \n",
       "3   8.10   712        2699.958333      33667        73.2               1   \n",
       "4  14.97   667        4066.000000       4740        39.5               0   \n",
       "\n",
       "   delinq.2yrs  pub.rec  not.fully.paid  \n",
       "0            0        0               0  \n",
       "1            0        0               0  \n",
       "2            0        0               0  \n",
       "3            0        0               0  \n",
       "4            1        0               0  "
      ]
     },
     "execution_count": 3,
     "metadata": {},
     "output_type": "execute_result"
    }
   ],
   "source": [
    "df.info()\n",
    "df.head()"
   ]
  },
  {
   "cell_type": "code",
   "execution_count": 4,
   "metadata": {
    "colab": {
     "base_uri": "https://localhost:8080/",
     "height": 452
    },
    "id": "XacDGoKbMlw3",
    "outputId": "aaffb155-9749-4269-b753-2f89f90d766f"
   },
   "outputs": [
    {
     "data": {
      "text/html": [
       "<div>\n",
       "<style scoped>\n",
       "    .dataframe tbody tr th:only-of-type {\n",
       "        vertical-align: middle;\n",
       "    }\n",
       "\n",
       "    .dataframe tbody tr th {\n",
       "        vertical-align: top;\n",
       "    }\n",
       "\n",
       "    .dataframe thead th {\n",
       "        text-align: right;\n",
       "    }\n",
       "</style>\n",
       "<table border=\"1\" class=\"dataframe\">\n",
       "  <thead>\n",
       "    <tr style=\"text-align: right;\">\n",
       "      <th></th>\n",
       "      <th>count</th>\n",
       "      <th>mean</th>\n",
       "      <th>std</th>\n",
       "      <th>min</th>\n",
       "      <th>25%</th>\n",
       "      <th>50%</th>\n",
       "      <th>75%</th>\n",
       "      <th>max</th>\n",
       "    </tr>\n",
       "  </thead>\n",
       "  <tbody>\n",
       "    <tr>\n",
       "      <th>credit.policy</th>\n",
       "      <td>9578.0</td>\n",
       "      <td>0.804970</td>\n",
       "      <td>0.396245</td>\n",
       "      <td>0.000000</td>\n",
       "      <td>1.000000</td>\n",
       "      <td>1.000000</td>\n",
       "      <td>1.000000</td>\n",
       "      <td>1.000000e+00</td>\n",
       "    </tr>\n",
       "    <tr>\n",
       "      <th>int.rate</th>\n",
       "      <td>9578.0</td>\n",
       "      <td>0.122640</td>\n",
       "      <td>0.026847</td>\n",
       "      <td>0.060000</td>\n",
       "      <td>0.103900</td>\n",
       "      <td>0.122100</td>\n",
       "      <td>0.140700</td>\n",
       "      <td>2.164000e-01</td>\n",
       "    </tr>\n",
       "    <tr>\n",
       "      <th>installment</th>\n",
       "      <td>9578.0</td>\n",
       "      <td>319.089413</td>\n",
       "      <td>207.071301</td>\n",
       "      <td>15.670000</td>\n",
       "      <td>163.770000</td>\n",
       "      <td>268.950000</td>\n",
       "      <td>432.762500</td>\n",
       "      <td>9.401400e+02</td>\n",
       "    </tr>\n",
       "    <tr>\n",
       "      <th>log.annual.inc</th>\n",
       "      <td>9578.0</td>\n",
       "      <td>10.932117</td>\n",
       "      <td>0.614813</td>\n",
       "      <td>7.547502</td>\n",
       "      <td>10.558414</td>\n",
       "      <td>10.928884</td>\n",
       "      <td>11.291293</td>\n",
       "      <td>1.452835e+01</td>\n",
       "    </tr>\n",
       "    <tr>\n",
       "      <th>dti</th>\n",
       "      <td>9578.0</td>\n",
       "      <td>12.606679</td>\n",
       "      <td>6.883970</td>\n",
       "      <td>0.000000</td>\n",
       "      <td>7.212500</td>\n",
       "      <td>12.665000</td>\n",
       "      <td>17.950000</td>\n",
       "      <td>2.996000e+01</td>\n",
       "    </tr>\n",
       "    <tr>\n",
       "      <th>fico</th>\n",
       "      <td>9578.0</td>\n",
       "      <td>710.846314</td>\n",
       "      <td>37.970537</td>\n",
       "      <td>612.000000</td>\n",
       "      <td>682.000000</td>\n",
       "      <td>707.000000</td>\n",
       "      <td>737.000000</td>\n",
       "      <td>8.270000e+02</td>\n",
       "    </tr>\n",
       "    <tr>\n",
       "      <th>days.with.cr.line</th>\n",
       "      <td>9578.0</td>\n",
       "      <td>4560.767197</td>\n",
       "      <td>2496.930377</td>\n",
       "      <td>178.958333</td>\n",
       "      <td>2820.000000</td>\n",
       "      <td>4139.958333</td>\n",
       "      <td>5730.000000</td>\n",
       "      <td>1.763996e+04</td>\n",
       "    </tr>\n",
       "    <tr>\n",
       "      <th>revol.bal</th>\n",
       "      <td>9578.0</td>\n",
       "      <td>16913.963876</td>\n",
       "      <td>33756.189557</td>\n",
       "      <td>0.000000</td>\n",
       "      <td>3187.000000</td>\n",
       "      <td>8596.000000</td>\n",
       "      <td>18249.500000</td>\n",
       "      <td>1.207359e+06</td>\n",
       "    </tr>\n",
       "    <tr>\n",
       "      <th>revol.util</th>\n",
       "      <td>9578.0</td>\n",
       "      <td>46.799236</td>\n",
       "      <td>29.014417</td>\n",
       "      <td>0.000000</td>\n",
       "      <td>22.600000</td>\n",
       "      <td>46.300000</td>\n",
       "      <td>70.900000</td>\n",
       "      <td>1.190000e+02</td>\n",
       "    </tr>\n",
       "    <tr>\n",
       "      <th>inq.last.6mths</th>\n",
       "      <td>9578.0</td>\n",
       "      <td>1.577469</td>\n",
       "      <td>2.200245</td>\n",
       "      <td>0.000000</td>\n",
       "      <td>0.000000</td>\n",
       "      <td>1.000000</td>\n",
       "      <td>2.000000</td>\n",
       "      <td>3.300000e+01</td>\n",
       "    </tr>\n",
       "    <tr>\n",
       "      <th>delinq.2yrs</th>\n",
       "      <td>9578.0</td>\n",
       "      <td>0.163708</td>\n",
       "      <td>0.546215</td>\n",
       "      <td>0.000000</td>\n",
       "      <td>0.000000</td>\n",
       "      <td>0.000000</td>\n",
       "      <td>0.000000</td>\n",
       "      <td>1.300000e+01</td>\n",
       "    </tr>\n",
       "    <tr>\n",
       "      <th>pub.rec</th>\n",
       "      <td>9578.0</td>\n",
       "      <td>0.062122</td>\n",
       "      <td>0.262126</td>\n",
       "      <td>0.000000</td>\n",
       "      <td>0.000000</td>\n",
       "      <td>0.000000</td>\n",
       "      <td>0.000000</td>\n",
       "      <td>5.000000e+00</td>\n",
       "    </tr>\n",
       "    <tr>\n",
       "      <th>not.fully.paid</th>\n",
       "      <td>9578.0</td>\n",
       "      <td>0.160054</td>\n",
       "      <td>0.366676</td>\n",
       "      <td>0.000000</td>\n",
       "      <td>0.000000</td>\n",
       "      <td>0.000000</td>\n",
       "      <td>0.000000</td>\n",
       "      <td>1.000000e+00</td>\n",
       "    </tr>\n",
       "  </tbody>\n",
       "</table>\n",
       "</div>"
      ],
      "text/plain": [
       "                    count          mean           std         min  \\\n",
       "credit.policy      9578.0      0.804970      0.396245    0.000000   \n",
       "int.rate           9578.0      0.122640      0.026847    0.060000   \n",
       "installment        9578.0    319.089413    207.071301   15.670000   \n",
       "log.annual.inc     9578.0     10.932117      0.614813    7.547502   \n",
       "dti                9578.0     12.606679      6.883970    0.000000   \n",
       "fico               9578.0    710.846314     37.970537  612.000000   \n",
       "days.with.cr.line  9578.0   4560.767197   2496.930377  178.958333   \n",
       "revol.bal          9578.0  16913.963876  33756.189557    0.000000   \n",
       "revol.util         9578.0     46.799236     29.014417    0.000000   \n",
       "inq.last.6mths     9578.0      1.577469      2.200245    0.000000   \n",
       "delinq.2yrs        9578.0      0.163708      0.546215    0.000000   \n",
       "pub.rec            9578.0      0.062122      0.262126    0.000000   \n",
       "not.fully.paid     9578.0      0.160054      0.366676    0.000000   \n",
       "\n",
       "                           25%          50%           75%           max  \n",
       "credit.policy         1.000000     1.000000      1.000000  1.000000e+00  \n",
       "int.rate              0.103900     0.122100      0.140700  2.164000e-01  \n",
       "installment         163.770000   268.950000    432.762500  9.401400e+02  \n",
       "log.annual.inc       10.558414    10.928884     11.291293  1.452835e+01  \n",
       "dti                   7.212500    12.665000     17.950000  2.996000e+01  \n",
       "fico                682.000000   707.000000    737.000000  8.270000e+02  \n",
       "days.with.cr.line  2820.000000  4139.958333   5730.000000  1.763996e+04  \n",
       "revol.bal          3187.000000  8596.000000  18249.500000  1.207359e+06  \n",
       "revol.util           22.600000    46.300000     70.900000  1.190000e+02  \n",
       "inq.last.6mths        0.000000     1.000000      2.000000  3.300000e+01  \n",
       "delinq.2yrs           0.000000     0.000000      0.000000  1.300000e+01  \n",
       "pub.rec               0.000000     0.000000      0.000000  5.000000e+00  \n",
       "not.fully.paid        0.000000     0.000000      0.000000  1.000000e+00  "
      ]
     },
     "execution_count": 4,
     "metadata": {},
     "output_type": "execute_result"
    }
   ],
   "source": [
    "\n",
    "df.describe().transpose()"
   ]
  },
  {
   "cell_type": "code",
   "execution_count": 5,
   "metadata": {
    "colab": {
     "base_uri": "https://localhost:8080/"
    },
    "id": "YrSD_sp6B5ss",
    "outputId": "defb70c7-e420-4d2b-d32c-5d838397d178"
   },
   "outputs": [
    {
     "data": {
      "text/plain": [
       "0.0"
      ]
     },
     "execution_count": 5,
     "metadata": {},
     "output_type": "execute_result"
    }
   ],
   "source": [
    "df['not.fully.paid'].isnull().mean()"
   ]
  },
  {
   "cell_type": "code",
   "execution_count": 6,
   "metadata": {
    "id": "MqVpB62gC7cx"
   },
   "outputs": [],
   "source": [
    "df1=pd.get_dummies(df, columns=['purpose'])"
   ]
  },
  {
   "cell_type": "code",
   "execution_count": 7,
   "metadata": {
    "id": "B_UF64O7DvcK"
   },
   "outputs": [],
   "source": [
    "df1['log.annual.inc'] = np.exp(df1['log.annual.inc'])"
   ]
  },
  {
   "cell_type": "code",
   "execution_count": 8,
   "metadata": {
    "colab": {
     "base_uri": "https://localhost:8080/",
     "height": 224
    },
    "id": "YWGZELt6D85J",
    "outputId": "b30a6314-7fd2-41e4-c1a5-f88ca409679c"
   },
   "outputs": [
    {
     "data": {
      "text/html": [
       "<div>\n",
       "<style scoped>\n",
       "    .dataframe tbody tr th:only-of-type {\n",
       "        vertical-align: middle;\n",
       "    }\n",
       "\n",
       "    .dataframe tbody tr th {\n",
       "        vertical-align: top;\n",
       "    }\n",
       "\n",
       "    .dataframe thead th {\n",
       "        text-align: right;\n",
       "    }\n",
       "</style>\n",
       "<table border=\"1\" class=\"dataframe\">\n",
       "  <thead>\n",
       "    <tr style=\"text-align: right;\">\n",
       "      <th></th>\n",
       "      <th>credit.policy</th>\n",
       "      <th>int.rate</th>\n",
       "      <th>installment</th>\n",
       "      <th>log.annual.inc</th>\n",
       "      <th>dti</th>\n",
       "      <th>fico</th>\n",
       "      <th>days.with.cr.line</th>\n",
       "      <th>revol.bal</th>\n",
       "      <th>revol.util</th>\n",
       "      <th>inq.last.6mths</th>\n",
       "      <th>delinq.2yrs</th>\n",
       "      <th>pub.rec</th>\n",
       "      <th>not.fully.paid</th>\n",
       "      <th>purpose_all_other</th>\n",
       "      <th>purpose_credit_card</th>\n",
       "      <th>purpose_debt_consolidation</th>\n",
       "      <th>purpose_educational</th>\n",
       "      <th>purpose_home_improvement</th>\n",
       "      <th>purpose_major_purchase</th>\n",
       "      <th>purpose_small_business</th>\n",
       "    </tr>\n",
       "  </thead>\n",
       "  <tbody>\n",
       "    <tr>\n",
       "      <th>0</th>\n",
       "      <td>1</td>\n",
       "      <td>0.1189</td>\n",
       "      <td>829.10</td>\n",
       "      <td>85000.000385</td>\n",
       "      <td>19.48</td>\n",
       "      <td>737</td>\n",
       "      <td>5639.958333</td>\n",
       "      <td>28854</td>\n",
       "      <td>52.1</td>\n",
       "      <td>0</td>\n",
       "      <td>0</td>\n",
       "      <td>0</td>\n",
       "      <td>0</td>\n",
       "      <td>0</td>\n",
       "      <td>0</td>\n",
       "      <td>1</td>\n",
       "      <td>0</td>\n",
       "      <td>0</td>\n",
       "      <td>0</td>\n",
       "      <td>0</td>\n",
       "    </tr>\n",
       "    <tr>\n",
       "      <th>1</th>\n",
       "      <td>1</td>\n",
       "      <td>0.1071</td>\n",
       "      <td>228.22</td>\n",
       "      <td>65000.000073</td>\n",
       "      <td>14.29</td>\n",
       "      <td>707</td>\n",
       "      <td>2760.000000</td>\n",
       "      <td>33623</td>\n",
       "      <td>76.7</td>\n",
       "      <td>0</td>\n",
       "      <td>0</td>\n",
       "      <td>0</td>\n",
       "      <td>0</td>\n",
       "      <td>0</td>\n",
       "      <td>1</td>\n",
       "      <td>0</td>\n",
       "      <td>0</td>\n",
       "      <td>0</td>\n",
       "      <td>0</td>\n",
       "      <td>0</td>\n",
       "    </tr>\n",
       "    <tr>\n",
       "      <th>2</th>\n",
       "      <td>1</td>\n",
       "      <td>0.1357</td>\n",
       "      <td>366.86</td>\n",
       "      <td>31999.999943</td>\n",
       "      <td>11.63</td>\n",
       "      <td>682</td>\n",
       "      <td>4710.000000</td>\n",
       "      <td>3511</td>\n",
       "      <td>25.6</td>\n",
       "      <td>1</td>\n",
       "      <td>0</td>\n",
       "      <td>0</td>\n",
       "      <td>0</td>\n",
       "      <td>0</td>\n",
       "      <td>0</td>\n",
       "      <td>1</td>\n",
       "      <td>0</td>\n",
       "      <td>0</td>\n",
       "      <td>0</td>\n",
       "      <td>0</td>\n",
       "    </tr>\n",
       "    <tr>\n",
       "      <th>3</th>\n",
       "      <td>1</td>\n",
       "      <td>0.1008</td>\n",
       "      <td>162.34</td>\n",
       "      <td>85000.000385</td>\n",
       "      <td>8.10</td>\n",
       "      <td>712</td>\n",
       "      <td>2699.958333</td>\n",
       "      <td>33667</td>\n",
       "      <td>73.2</td>\n",
       "      <td>1</td>\n",
       "      <td>0</td>\n",
       "      <td>0</td>\n",
       "      <td>0</td>\n",
       "      <td>0</td>\n",
       "      <td>0</td>\n",
       "      <td>1</td>\n",
       "      <td>0</td>\n",
       "      <td>0</td>\n",
       "      <td>0</td>\n",
       "      <td>0</td>\n",
       "    </tr>\n",
       "    <tr>\n",
       "      <th>4</th>\n",
       "      <td>1</td>\n",
       "      <td>0.1426</td>\n",
       "      <td>102.92</td>\n",
       "      <td>80799.999636</td>\n",
       "      <td>14.97</td>\n",
       "      <td>667</td>\n",
       "      <td>4066.000000</td>\n",
       "      <td>4740</td>\n",
       "      <td>39.5</td>\n",
       "      <td>0</td>\n",
       "      <td>1</td>\n",
       "      <td>0</td>\n",
       "      <td>0</td>\n",
       "      <td>0</td>\n",
       "      <td>1</td>\n",
       "      <td>0</td>\n",
       "      <td>0</td>\n",
       "      <td>0</td>\n",
       "      <td>0</td>\n",
       "      <td>0</td>\n",
       "    </tr>\n",
       "  </tbody>\n",
       "</table>\n",
       "</div>"
      ],
      "text/plain": [
       "   credit.policy  int.rate  installment  log.annual.inc    dti  fico  \\\n",
       "0              1    0.1189       829.10    85000.000385  19.48   737   \n",
       "1              1    0.1071       228.22    65000.000073  14.29   707   \n",
       "2              1    0.1357       366.86    31999.999943  11.63   682   \n",
       "3              1    0.1008       162.34    85000.000385   8.10   712   \n",
       "4              1    0.1426       102.92    80799.999636  14.97   667   \n",
       "\n",
       "   days.with.cr.line  revol.bal  revol.util  inq.last.6mths  delinq.2yrs  \\\n",
       "0        5639.958333      28854        52.1               0            0   \n",
       "1        2760.000000      33623        76.7               0            0   \n",
       "2        4710.000000       3511        25.6               1            0   \n",
       "3        2699.958333      33667        73.2               1            0   \n",
       "4        4066.000000       4740        39.5               0            1   \n",
       "\n",
       "   pub.rec  not.fully.paid  purpose_all_other  purpose_credit_card  \\\n",
       "0        0               0                  0                    0   \n",
       "1        0               0                  0                    1   \n",
       "2        0               0                  0                    0   \n",
       "3        0               0                  0                    0   \n",
       "4        0               0                  0                    1   \n",
       "\n",
       "   purpose_debt_consolidation  purpose_educational  purpose_home_improvement  \\\n",
       "0                           1                    0                         0   \n",
       "1                           0                    0                         0   \n",
       "2                           1                    0                         0   \n",
       "3                           1                    0                         0   \n",
       "4                           0                    0                         0   \n",
       "\n",
       "   purpose_major_purchase  purpose_small_business  \n",
       "0                       0                       0  \n",
       "1                       0                       0  \n",
       "2                       0                       0  \n",
       "3                       0                       0  \n",
       "4                       0                       0  "
      ]
     },
     "execution_count": 8,
     "metadata": {},
     "output_type": "execute_result"
    }
   ],
   "source": [
    "df1.head()"
   ]
  },
  {
   "cell_type": "code",
   "execution_count": 9,
   "metadata": {
    "colab": {
     "base_uri": "https://localhost:8080/"
    },
    "id": "KryPmqY8CDYC",
    "outputId": "89cd88b2-2252-499f-cfdf-4134768c57ea"
   },
   "outputs": [
    {
     "data": {
      "text/plain": [
       "not.fully.paid\n",
       "0    0.839946\n",
       "1    0.160054\n",
       "Name: not.fully.paid, dtype: float64"
      ]
     },
     "execution_count": 9,
     "metadata": {},
     "output_type": "execute_result"
    }
   ],
   "source": [
    "df.groupby('not.fully.paid')['not.fully.paid'].count()/len(df)"
   ]
  },
  {
   "cell_type": "code",
   "execution_count": 10,
   "metadata": {
    "colab": {
     "base_uri": "https://localhost:8080/",
     "height": 296
    },
    "id": "y8lVe87DCRZg",
    "outputId": "8bc70977-580d-452c-9ec4-456175c48f55"
   },
   "outputs": [
    {
     "data": {
      "text/plain": [
       "<AxesSubplot:xlabel='not.fully.paid', ylabel='count'>"
      ]
     },
     "execution_count": 10,
     "metadata": {},
     "output_type": "execute_result"
    },
    {
     "data": {
      "image/png": "[encoded data removed]",
      "text/plain": [
       "<Figure size 432x288 with 1 Axes>"
      ]
     },
     "metadata": {},
     "output_type": "display_data"
    }
   ],
   "source": [
    "sns.set_style('darkgrid')\n",
    "sns.countplot(x='not.fully.paid', data=df)"
   ]
  },
  {
   "cell_type": "code",
   "execution_count": 11,
   "metadata": {
    "id": "coCYDHacLY1H"
   },
   "outputs": [],
   "source": [
    "count_class_0, count_class_1 = df['not.fully.paid'].value_counts()"
   ]
  },
  {
   "cell_type": "code",
   "execution_count": 12,
   "metadata": {
    "id": "MOyJSAy4Mjgk"
   },
   "outputs": [],
   "source": [
    "df_0 = df[df['not.fully.paid'] == 0]\n",
    "df_1 = df[df['not.fully.paid'] == 1]"
   ]
  },
  {
   "cell_type": "code",
   "execution_count": 13,
   "metadata": {
    "id": "hjhir6agM2IX"
   },
   "outputs": [],
   "source": [
    "df_1_over = df_1.sample(count_class_0, replace=True)\n",
    "df_test_over = pd.concat([df_0, df_1_over], axis=0)"
   ]
  },
  {
   "cell_type": "code",
   "execution_count": 14,
   "metadata": {
    "colab": {
     "base_uri": "https://localhost:8080/"
    },
    "id": "SlXPkN6ONDqK",
    "outputId": "19873f66-ba67-4218-8f50-fe892198dc75"
   },
   "outputs": [
    {
     "name": "stdout",
     "output_type": "stream",
     "text": [
      "Random over-sampling:\n",
      "1    8045\n",
      "0    8045\n",
      "Name: not.fully.paid, dtype: int64\n"
     ]
    }
   ],
   "source": [
    "print('Random over-sampling:')\n",
    "print(df_test_over['not.fully.paid'].value_counts())"
   ]
  },
  {
   "cell_type": "code",
   "execution_count": 15,
   "metadata": {
    "colab": {
     "base_uri": "https://localhost:8080/",
     "height": 296
    },
    "id": "EiTk1yd-NPOy",
    "outputId": "8f675a00-fa25-4db0-cac9-8d58092832db"
   },
   "outputs": [
    {
     "data": {
      "text/plain": [
       "<AxesSubplot:xlabel='not.fully.paid', ylabel='count'>"
      ]
     },
     "execution_count": 15,
     "metadata": {},
     "output_type": "execute_result"
    },
    {
     "data": {
      "image/png": "[encoded data removed]",
      "text/plain": [
       "<Figure size 432x288 with 1 Axes>"
      ]
     },
     "metadata": {},
     "output_type": "display_data"
    }
   ],
   "source": [
    "sns.set_style('darkgrid')\n",
    "sns.countplot(x='not.fully.paid', data=df_test_over)"
   ]
  },
  {
   "cell_type": "code",
   "execution_count": 16,
   "metadata": {
    "colab": {
     "base_uri": "https://localhost:8080/",
     "height": 404
    },
    "id": "biSAJf9NCoxR",
    "outputId": "cc39354e-4f4e-428a-b5a7-b1997e4330e1"
   },
   "outputs": [
    {
     "data": {
      "text/plain": [
       "<AxesSubplot:>"
      ]
     },
     "execution_count": 16,
     "metadata": {},
     "output_type": "execute_result"
    },
    {
     "data": {
      "image/png": "[encoded data removed]",
      "text/plain": [
       "<Figure size 864x432 with 1 Axes>"
      ]
     },
     "metadata": {},
     "output_type": "display_data"
    }
   ],
   "source": [
    "df['revol.bal'].hist(figsize=[12,6], bins=50)"
   ]
  },
  {
   "cell_type": "code",
   "execution_count": 17,
   "metadata": {
    "id": "1dcn6dnMUGsk"
   },
   "outputs": [],
   "source": [
    "df1=pd.get_dummies(df, columns=['purpose'])"
   ]
  },
  {
   "cell_type": "code",
   "execution_count": 18,
   "metadata": {
    "colab": {
     "base_uri": "https://localhost:8080/",
     "height": 405
    },
    "id": "xtwq20KCMypy",
    "outputId": "df106e83-5e0e-4d46-de70-162da0389328"
   },
   "outputs": [
    {
     "data": {
      "text/plain": [
       "Text(0.5, 0, 'FICO')"
      ]
     },
     "execution_count": 18,
     "metadata": {},
     "output_type": "execute_result"
    },
    {
     "data": {
      "image/png": "[encoded data removed]",
      "text/plain": [
       "<Figure size 720x432 with 1 Axes>"
      ]
     },
     "metadata": {},
     "output_type": "display_data"
    }
   ],
   "source": [
    "plt.figure(figsize=(10,6))\n",
    "df[df['credit.policy']==1]['fico'].hist(alpha=0.5,color='blue',bins=30,label='Credit.Policy=1')\n",
    "df[df['credit.policy']==0]['fico'].hist(alpha=0.5,color='red',bins=30,label='Credit.Policy=0')\n",
    "plt.legend()\n",
    "plt.xlabel('FICO')"
   ]
  },
  {
   "cell_type": "code",
   "execution_count": 19,
   "metadata": {
    "colab": {
     "base_uri": "https://localhost:8080/",
     "height": 405
    },
    "id": "9AVf5OdbQvSU",
    "outputId": "d9eb0f9b-1823-4b70-ce0f-309b8e97d31e"
   },
   "outputs": [
    {
     "data": {
      "text/plain": [
       "Text(0.5, 0, 'FICO')"
      ]
     },
     "execution_count": 19,
     "metadata": {},
     "output_type": "execute_result"
    },
    {
     "data": {
      "image/png": "[encoded data removed]",
      "text/plain": [
       "<Figure size 720x432 with 1 Axes>"
      ]
     },
     "metadata": {},
     "output_type": "display_data"
    }
   ],
   "source": [
    "plt.figure(figsize=(10,6))\n",
    "df[df['not.fully.paid']==1]['fico'].hist(alpha=0.5,color='blue',bins=30,label='not.fully.paid=1')\n",
    "df[df['not.fully.paid']==0]['fico'].hist(alpha=0.5,color='red',bins=30,label='not.fully.paid=0')plt.legend(plt.xlabel('FICO')"
   ]
  },
  {
   "cell_type": "code",
   "execution_count": 20,
   "metadata": {
    "colab": {
     "base_uri": "https://localhost:8080/",
     "height": 462
    },
    "id": "zcEjnMAFRAGI",
    "outputId": "497270c3-acf6-4b1a-b8f7-a81b1db6a9bb"
   },
   "outputs": [
    {
     "data": {
      "text/plain": [
       "<AxesSubplot:xlabel='purpose', ylabel='count'>"
      ]
     },
     "execution_count": 20,
     "metadata": {},
     "output_type": "execute_result"
    },
    {
     "data": {
      "image/png": "[encoded data removed]",
      "text/plain": [
       "<Figure size 792x504 with 1 Axes>"
      ]
     },
     "metadata": {},
     "output_type": "display_data"
    }
   ],
   "source": [
    "plt.figure(figsize=(11,7))\n",
    "sns.countplot(x='purpose',hue='not.fully.paid',data=df,palette='Set1')"
   ]
  },
  {
   "cell_type": "code",
   "execution_count": 21,
   "metadata": {
    "colab": {
     "base_uri": "https://localhost:8080/",
     "height": 458
    },
    "id": "aQquyZ44RFio",
    "outputId": "2915f44e-ad23-4a58-8170-a95790a9dde1"
   },
   "outputs": [
    {
     "data": {
      "text/plain": [
       "<seaborn.axisgrid.JointGrid at 0x7f381ca50290>"
      ]
     },
     "execution_count": 21,
     "metadata": {},
     "output_type": "execute_result"
    },
    {
     "data": {
      "image/png": "[encoded data removed]",
      "text/plain": [
       "<Figure size 432x432 with 3 Axes>"
      ]
     },
     "metadata": {},
     "output_type": "display_data"
    }
   ],
   "source": [
    "sns.jointplot(x='fico',y='int.rate',data=df,color='purple')"
   ]
  },
  {
   "cell_type": "code",
   "execution_count": 22,
   "metadata": {
    "colab": {
     "base_uri": "https://localhost:8080/",
     "height": 417
    },
    "id": "4CKrqyaBRLl1",
    "outputId": "17b223dd-fd62-41fa-a63e-90ce729aa2f3"
   },
   "outputs": [
    {
     "data": {
      "text/plain": [
       "<seaborn.axisgrid.FacetGrid at 0x7f381c764c50>"
      ]
     },
     "execution_count": 22,
     "metadata": {},
     "output_type": "execute_result"
    },
    {
     "data": {
      "text/plain": [
       "<Figure size 792x504 with 0 Axes>"
      ]
     },
     "metadata": {},
     "output_type": "display_data"
    },
    {
     "data": {
      "image/png": "[encoded data removed]",
      "text/plain": [
       "<Figure size 789.25x360 with 2 Axes>"
      ]
     },
     "metadata": {},
     "output_type": "display_data"
    }
   ],
   "source": [
    "plt.figure(figsize=(11,7))\n",
    "sns.lmplot(y='int.rate',x='fico',data=df,hue='credit.policy',col='not.fully.paid',palette='Set1')"
   ]
  },
  {
   "cell_type": "code",
   "execution_count": 23,
   "metadata": {
    "id": "1FwSDb_URUhc"
   },
   "outputs": [],
   "source": [
    "cat_feats = ['purpose']"
   ]
  },
  {
   "cell_type": "code",
   "execution_count": 24,
   "metadata": {
    "id": "a2iTUQ1PRYEz"
   },
   "outputs": [],
   "source": [
    "final_data = pd.get_dummies(df_test_over,columns=cat_feats,drop_first=True)"
   ]
  },
  {
   "cell_type": "code",
   "execution_count": 25,
   "metadata": {
    "colab": {
     "base_uri": "https://localhost:8080/",
     "height": 666
    },
    "id": "f89bHKqcRhDh",
    "outputId": "c06c6599-2f85-4654-ab0c-616a27fff28e"
   },
   "outputs": [
    {
     "name": "stdout",
     "output_type": "stream",
     "text": [
      "<class 'pandas.core.frame.DataFrame'>\n",
      "Int64Index: 16090 entries, 0 to 4437\n",
      "Data columns (total 19 columns):\n",
      " #   Column                      Non-Null Count  Dtype  \n",
      "---  ------                      --------------  -----  \n",
      " 0   credit.policy               16090 non-null  int64  \n",
      " 1   int.rate                    16090 non-null  float64\n",
      " 2   installment                 16090 non-null  float64\n",
      " 3   log.annual.inc              16090 non-null  float64\n",
      " 4   dti                         16090 non-null  float64\n",
      " 5   fico                        16090 non-null  int64  \n",
      " 6   days.with.cr.line           16090 non-null  float64\n",
      " 7   revol.bal                   16090 non-null  int64  \n",
      " 8   revol.util                  16090 non-null  float64\n",
      " 9   inq.last.6mths              16090 non-null  int64  \n",
      " 10  delinq.2yrs                 16090 non-null  int64  \n",
      " 11  pub.rec                     16090 non-null  int64  \n",
      " 12  not.fully.paid              16090 non-null  int64  \n",
      " 13  purpose_credit_card         16090 non-null  uint8  \n",
      " 14  purpose_debt_consolidation  16090 non-null  uint8  \n",
      " 15  purpose_educational         16090 non-null  uint8  \n",
      " 16  purpose_home_improvement    16090 non-null  uint8  \n",
      " 17  purpose_major_purchase      16090 non-null  uint8  \n",
      " 18  purpose_small_business      16090 non-null  uint8  \n",
      "dtypes: float64(6), int64(7), uint8(6)\n",
      "memory usage: 2.1 MB\n"
     ]
    },
    {
     "data": {
      "text/html": [
       "<div>\n",
       "<style scoped>\n",
       "    .dataframe tbody tr th:only-of-type {\n",
       "        vertical-align: middle;\n",
       "    }\n",
       "\n",
       "    .dataframe tbody tr th {\n",
       "        vertical-align: top;\n",
       "    }\n",
       "\n",
       "    .dataframe thead th {\n",
       "        text-align: right;\n",
       "    }\n",
       "</style>\n",
       "<table border=\"1\" class=\"dataframe\">\n",
       "  <thead>\n",
       "    <tr style=\"text-align: right;\">\n",
       "      <th></th>\n",
       "      <th>credit.policy</th>\n",
       "      <th>int.rate</th>\n",
       "      <th>installment</th>\n",
       "      <th>log.annual.inc</th>\n",
       "      <th>dti</th>\n",
       "      <th>fico</th>\n",
       "      <th>days.with.cr.line</th>\n",
       "      <th>revol.bal</th>\n",
       "      <th>revol.util</th>\n",
       "      <th>inq.last.6mths</th>\n",
       "      <th>delinq.2yrs</th>\n",
       "      <th>pub.rec</th>\n",
       "      <th>not.fully.paid</th>\n",
       "      <th>purpose_credit_card</th>\n",
       "      <th>purpose_debt_consolidation</th>\n",
       "      <th>purpose_educational</th>\n",
       "      <th>purpose_home_improvement</th>\n",
       "      <th>purpose_major_purchase</th>\n",
       "      <th>purpose_small_business</th>\n",
       "    </tr>\n",
       "  </thead>\n",
       "  <tbody>\n",
       "    <tr>\n",
       "      <th>0</th>\n",
       "      <td>1</td>\n",
       "      <td>0.1189</td>\n",
       "      <td>829.10</td>\n",
       "      <td>11.350407</td>\n",
       "      <td>19.48</td>\n",
       "      <td>737</td>\n",
       "      <td>5639.958333</td>\n",
       "      <td>28854</td>\n",
       "      <td>52.1</td>\n",
       "      <td>0</td>\n",
       "      <td>0</td>\n",
       "      <td>0</td>\n",
       "      <td>0</td>\n",
       "      <td>0</td>\n",
       "      <td>1</td>\n",
       "      <td>0</td>\n",
       "      <td>0</td>\n",
       "      <td>0</td>\n",
       "      <td>0</td>\n",
       "    </tr>\n",
       "    <tr>\n",
       "      <th>1</th>\n",
       "      <td>1</td>\n",
       "      <td>0.1071</td>\n",
       "      <td>228.22</td>\n",
       "      <td>11.082143</td>\n",
       "      <td>14.29</td>\n",
       "      <td>707</td>\n",
       "      <td>2760.000000</td>\n",
       "      <td>33623</td>\n",
       "      <td>76.7</td>\n",
       "      <td>0</td>\n",
       "      <td>0</td>\n",
       "      <td>0</td>\n",
       "      <td>0</td>\n",
       "      <td>1</td>\n",
       "      <td>0</td>\n",
       "      <td>0</td>\n",
       "      <td>0</td>\n",
       "      <td>0</td>\n",
       "      <td>0</td>\n",
       "    </tr>\n",
       "    <tr>\n",
       "      <th>2</th>\n",
       "      <td>1</td>\n",
       "      <td>0.1357</td>\n",
       "      <td>366.86</td>\n",
       "      <td>10.373491</td>\n",
       "      <td>11.63</td>\n",
       "      <td>682</td>\n",
       "      <td>4710.000000</td>\n",
       "      <td>3511</td>\n",
       "      <td>25.6</td>\n",
       "      <td>1</td>\n",
       "      <td>0</td>\n",
       "      <td>0</td>\n",
       "      <td>0</td>\n",
       "      <td>0</td>\n",
       "      <td>1</td>\n",
       "      <td>0</td>\n",
       "      <td>0</td>\n",
       "      <td>0</td>\n",
       "      <td>0</td>\n",
       "    </tr>\n",
       "    <tr>\n",
       "      <th>3</th>\n",
       "      <td>1</td>\n",
       "      <td>0.1008</td>\n",
       "      <td>162.34</td>\n",
       "      <td>11.350407</td>\n",
       "      <td>8.10</td>\n",
       "      <td>712</td>\n",
       "      <td>2699.958333</td>\n",
       "      <td>33667</td>\n",
       "      <td>73.2</td>\n",
       "      <td>1</td>\n",
       "      <td>0</td>\n",
       "      <td>0</td>\n",
       "      <td>0</td>\n",
       "      <td>0</td>\n",
       "      <td>1</td>\n",
       "      <td>0</td>\n",
       "      <td>0</td>\n",
       "      <td>0</td>\n",
       "      <td>0</td>\n",
       "    </tr>\n",
       "    <tr>\n",
       "      <th>4</th>\n",
       "      <td>1</td>\n",
       "      <td>0.1426</td>\n",
       "      <td>102.92</td>\n",
       "      <td>11.299732</td>\n",
       "      <td>14.97</td>\n",
       "      <td>667</td>\n",
       "      <td>4066.000000</td>\n",
       "      <td>4740</td>\n",
       "      <td>39.5</td>\n",
       "      <td>0</td>\n",
       "      <td>1</td>\n",
       "      <td>0</td>\n",
       "      <td>0</td>\n",
       "      <td>1</td>\n",
       "      <td>0</td>\n",
       "      <td>0</td>\n",
       "      <td>0</td>\n",
       "      <td>0</td>\n",
       "      <td>0</td>\n",
       "    </tr>\n",
       "  </tbody>\n",
       "</table>\n",
       "</div>"
      ],
      "text/plain": [
       "   credit.policy  int.rate  installment  log.annual.inc    dti  fico  \\\n",
       "0              1    0.1189       829.10       11.350407  19.48   737   \n",
       "1              1    0.1071       228.22       11.082143  14.29   707   \n",
       "2              1    0.1357       366.86       10.373491  11.63   682   \n",
       "3              1    0.1008       162.34       11.350407   8.10   712   \n",
       "4              1    0.1426       102.92       11.299732  14.97   667   \n",
       "\n",
       "   days.with.cr.line  revol.bal  revol.util  inq.last.6mths  delinq.2yrs  \\\n",
       "0        5639.958333      28854        52.1               0            0   \n",
       "1        2760.000000      33623        76.7               0            0   \n",
       "2        4710.000000       3511        25.6               1            0   \n",
       "3        2699.958333      33667        73.2               1            0   \n",
       "4        4066.000000       4740        39.5               0            1   \n",
       "\n",
       "   pub.rec  not.fully.paid  purpose_credit_card  purpose_debt_consolidation  \\\n",
       "0        0               0                    0                           1   \n",
       "1        0               0                    1                           0   \n",
       "2        0               0                    0                           1   \n",
       "3        0               0                    0                           1   \n",
       "4        0               0                    1                           0   \n",
       "\n",
       "   purpose_educational  purpose_home_improvement  purpose_major_purchase  \\\n",
       "0                    0                         0                       0   \n",
       "1                    0                         0                       0   \n",
       "2                    0                         0                       0   \n",
       "3                    0                         0                       0   \n",
       "4                    0                         0                       0   \n",
       "\n",
       "   purpose_small_business  \n",
       "0                       0  \n",
       "1                       0  \n",
       "2                       0  \n",
       "3                       0  \n",
       "4                       0  "
      ]
     },
     "execution_count": 25,
     "metadata": {},
     "output_type": "execute_result"
    }
   ],
   "source": [
    "final_data.info()\n",
    "final_data.head()"
   ]
  },
  {
   "cell_type": "code",
   "execution_count": 26,
   "metadata": {
    "colab": {
     "base_uri": "https://localhost:8080/",
     "height": 658
    },
    "id": "sD5n5MrtRCOT",
    "outputId": "6215fc2b-a33d-405c-f0e0-2ddfec426fda"
   },
   "outputs": [
    {
     "data": {
      "text/html": [
       "<div>\n",
       "<style scoped>\n",
       "    .dataframe tbody tr th:only-of-type {\n",
       "        vertical-align: middle;\n",
       "    }\n",
       "\n",
       "    .dataframe tbody tr th {\n",
       "        vertical-align: top;\n",
       "    }\n",
       "\n",
       "    .dataframe thead th {\n",
       "        text-align: right;\n",
       "    }\n",
       "</style>\n",
       "<table border=\"1\" class=\"dataframe\">\n",
       "  <thead>\n",
       "    <tr style=\"text-align: right;\">\n",
       "      <th></th>\n",
       "      <th>credit.policy</th>\n",
       "      <th>int.rate</th>\n",
       "      <th>installment</th>\n",
       "      <th>log.annual.inc</th>\n",
       "      <th>dti</th>\n",
       "      <th>fico</th>\n",
       "      <th>days.with.cr.line</th>\n",
       "      <th>revol.bal</th>\n",
       "      <th>revol.util</th>\n",
       "      <th>inq.last.6mths</th>\n",
       "      <th>delinq.2yrs</th>\n",
       "      <th>pub.rec</th>\n",
       "      <th>not.fully.paid</th>\n",
       "      <th>purpose_credit_card</th>\n",
       "      <th>purpose_debt_consolidation</th>\n",
       "      <th>purpose_educational</th>\n",
       "      <th>purpose_home_improvement</th>\n",
       "      <th>purpose_major_purchase</th>\n",
       "      <th>purpose_small_business</th>\n",
       "    </tr>\n",
       "  </thead>\n",
       "  <tbody>\n",
       "    <tr>\n",
       "      <th>credit.policy</th>\n",
       "      <td>1.000000</td>\n",
       "      <td>-0.290768</td>\n",
       "      <td>0.052371</td>\n",
       "      <td>0.018057</td>\n",
       "      <td>-0.105953</td>\n",
       "      <td>0.370806</td>\n",
       "      <td>0.088990</td>\n",
       "      <td>-0.181286</td>\n",
       "      <td>-0.092037</td>\n",
       "      <td>-0.556015</td>\n",
       "      <td>-0.055963</td>\n",
       "      <td>-0.053719</td>\n",
       "      <td>-0.206146</td>\n",
       "      <td>0.012499</td>\n",
       "      <td>0.027481</td>\n",
       "      <td>-0.031752</td>\n",
       "      <td>-0.012700</td>\n",
       "      <td>0.035328</td>\n",
       "      <td>-0.007631</td>\n",
       "    </tr>\n",
       "    <tr>\n",
       "      <th>int.rate</th>\n",
       "      <td>-0.290768</td>\n",
       "      <td>1.000000</td>\n",
       "      <td>0.275234</td>\n",
       "      <td>0.074567</td>\n",
       "      <td>0.209746</td>\n",
       "      <td>-0.676966</td>\n",
       "      <td>-0.095311</td>\n",
       "      <td>0.083931</td>\n",
       "      <td>0.416246</td>\n",
       "      <td>0.184093</td>\n",
       "      <td>0.147139</td>\n",
       "      <td>0.104384</td>\n",
       "      <td>0.223644</td>\n",
       "      <td>-0.046769</td>\n",
       "      <td>0.081180</td>\n",
       "      <td>-0.024806</td>\n",
       "      <td>-0.036122</td>\n",
       "      <td>-0.066651</td>\n",
       "      <td>0.184400</td>\n",
       "    </tr>\n",
       "    <tr>\n",
       "      <th>installment</th>\n",
       "      <td>0.052371</td>\n",
       "      <td>0.275234</td>\n",
       "      <td>1.000000</td>\n",
       "      <td>0.478522</td>\n",
       "      <td>0.033839</td>\n",
       "      <td>0.106474</td>\n",
       "      <td>0.186938</td>\n",
       "      <td>0.254039</td>\n",
       "      <td>0.057753</td>\n",
       "      <td>-0.011330</td>\n",
       "      <td>0.004505</td>\n",
       "      <td>-0.026088</td>\n",
       "      <td>0.072678</td>\n",
       "      <td>0.005223</td>\n",
       "      <td>0.111152</td>\n",
       "      <td>-0.094806</td>\n",
       "      <td>0.038750</td>\n",
       "      <td>-0.056235</td>\n",
       "      <td>0.194545</td>\n",
       "    </tr>\n",
       "    <tr>\n",
       "      <th>log.annual.inc</th>\n",
       "      <td>0.018057</td>\n",
       "      <td>0.074567</td>\n",
       "      <td>0.478522</td>\n",
       "      <td>1.000000</td>\n",
       "      <td>-0.028855</td>\n",
       "      <td>0.110404</td>\n",
       "      <td>0.342928</td>\n",
       "      <td>0.381004</td>\n",
       "      <td>0.067335</td>\n",
       "      <td>0.044132</td>\n",
       "      <td>0.026312</td>\n",
       "      <td>0.008583</td>\n",
       "      <td>-0.044947</td>\n",
       "      <td>0.073074</td>\n",
       "      <td>-0.032665</td>\n",
       "      <td>-0.118194</td>\n",
       "      <td>0.103639</td>\n",
       "      <td>-0.021570</td>\n",
       "      <td>0.129640</td>\n",
       "    </tr>\n",
       "    <tr>\n",
       "      <th>dti</th>\n",
       "      <td>-0.105953</td>\n",
       "      <td>0.209746</td>\n",
       "      <td>0.033839</td>\n",
       "      <td>-0.028855</td>\n",
       "      <td>1.000000</td>\n",
       "      <td>-0.227315</td>\n",
       "      <td>0.088388</td>\n",
       "      <td>0.172293</td>\n",
       "      <td>0.327464</td>\n",
       "      <td>0.028672</td>\n",
       "      <td>-0.033092</td>\n",
       "      <td>0.026175</td>\n",
       "      <td>0.052158</td>\n",
       "      <td>0.071906</td>\n",
       "      <td>0.184976</td>\n",
       "      <td>-0.037461</td>\n",
       "      <td>-0.094562</td>\n",
       "      <td>-0.071255</td>\n",
       "      <td>-0.069077</td>\n",
       "    </tr>\n",
       "    <tr>\n",
       "      <th>fico</th>\n",
       "      <td>0.370806</td>\n",
       "      <td>-0.676966</td>\n",
       "      <td>0.106474</td>\n",
       "      <td>0.110404</td>\n",
       "      <td>-0.227315</td>\n",
       "      <td>1.000000</td>\n",
       "      <td>0.255608</td>\n",
       "      <td>0.011523</td>\n",
       "      <td>-0.493162</td>\n",
       "      <td>-0.195536</td>\n",
       "      <td>-0.202107</td>\n",
       "      <td>-0.159774</td>\n",
       "      <td>-0.213970</td>\n",
       "      <td>-0.006642</td>\n",
       "      <td>-0.139213</td>\n",
       "      <td>-0.010981</td>\n",
       "      <td>0.089825</td>\n",
       "      <td>0.063535</td>\n",
       "      <td>0.073758</td>\n",
       "    </tr>\n",
       "    <tr>\n",
       "      <th>days.with.cr.line</th>\n",
       "      <td>0.088990</td>\n",
       "      <td>-0.095311</td>\n",
       "      <td>0.186938</td>\n",
       "      <td>0.342928</td>\n",
       "      <td>0.088388</td>\n",
       "      <td>0.255608</td>\n",
       "      <td>1.000000</td>\n",
       "      <td>0.249624</td>\n",
       "      <td>0.017341</td>\n",
       "      <td>-0.023477</td>\n",
       "      <td>0.085599</td>\n",
       "      <td>0.066529</td>\n",
       "      <td>-0.040230</td>\n",
       "      <td>0.059275</td>\n",
       "      <td>-0.000850</td>\n",
       "      <td>-0.052087</td>\n",
       "      <td>0.069523</td>\n",
       "      <td>-0.023687</td>\n",
       "      <td>0.043965</td>\n",
       "    </tr>\n",
       "    <tr>\n",
       "      <th>revol.bal</th>\n",
       "      <td>-0.181286</td>\n",
       "      <td>0.083931</td>\n",
       "      <td>0.254039</td>\n",
       "      <td>0.381004</td>\n",
       "      <td>0.172293</td>\n",
       "      <td>0.011523</td>\n",
       "      <td>0.249624</td>\n",
       "      <td>1.000000</td>\n",
       "      <td>0.168432</td>\n",
       "      <td>0.032917</td>\n",
       "      <td>-0.023512</td>\n",
       "      <td>-0.039891</td>\n",
       "      <td>0.060306</td>\n",
       "      <td>0.046771</td>\n",
       "      <td>-0.004443</td>\n",
       "      <td>-0.028135</td>\n",
       "      <td>-0.011818</td>\n",
       "      <td>-0.055358</td>\n",
       "      <td>0.110346</td>\n",
       "    </tr>\n",
       "    <tr>\n",
       "      <th>revol.util</th>\n",
       "      <td>-0.092037</td>\n",
       "      <td>0.416246</td>\n",
       "      <td>0.057753</td>\n",
       "      <td>0.067335</td>\n",
       "      <td>0.327464</td>\n",
       "      <td>-0.493162</td>\n",
       "      <td>0.017341</td>\n",
       "      <td>0.168432</td>\n",
       "      <td>1.000000</td>\n",
       "      <td>-0.027395</td>\n",
       "      <td>-0.049733</td>\n",
       "      <td>0.082892</td>\n",
       "      <td>0.109208</td>\n",
       "      <td>0.095652</td>\n",
       "      <td>0.195508</td>\n",
       "      <td>-0.053620</td>\n",
       "      <td>-0.115099</td>\n",
       "      <td>-0.115051</td>\n",
       "      <td>-0.066100</td>\n",
       "    </tr>\n",
       "    <tr>\n",
       "      <th>inq.last.6mths</th>\n",
       "      <td>-0.556015</td>\n",
       "      <td>0.184093</td>\n",
       "      <td>-0.011330</td>\n",
       "      <td>0.044132</td>\n",
       "      <td>0.028672</td>\n",
       "      <td>-0.195536</td>\n",
       "      <td>-0.023477</td>\n",
       "      <td>0.032917</td>\n",
       "      <td>-0.027395</td>\n",
       "      <td>1.000000</td>\n",
       "      <td>0.008361</td>\n",
       "      <td>0.096355</td>\n",
       "      <td>0.186103</td>\n",
       "      <td>-0.041326</td>\n",
       "      <td>-0.054185</td>\n",
       "      <td>0.030932</td>\n",
       "      <td>0.068217</td>\n",
       "      <td>-0.004676</td>\n",
       "      <td>0.034446</td>\n",
       "    </tr>\n",
       "    <tr>\n",
       "      <th>delinq.2yrs</th>\n",
       "      <td>-0.055963</td>\n",
       "      <td>0.147139</td>\n",
       "      <td>0.004505</td>\n",
       "      <td>0.026312</td>\n",
       "      <td>-0.033092</td>\n",
       "      <td>-0.202107</td>\n",
       "      <td>0.085599</td>\n",
       "      <td>-0.023512</td>\n",
       "      <td>-0.049733</td>\n",
       "      <td>0.008361</td>\n",
       "      <td>1.000000</td>\n",
       "      <td>-0.013545</td>\n",
       "      <td>0.012344</td>\n",
       "      <td>-0.007209</td>\n",
       "      <td>-0.022306</td>\n",
       "      <td>-0.002264</td>\n",
       "      <td>-0.006483</td>\n",
       "      <td>0.003735</td>\n",
       "      <td>0.027448</td>\n",
       "    </tr>\n",
       "    <tr>\n",
       "      <th>pub.rec</th>\n",
       "      <td>-0.053719</td>\n",
       "      <td>0.104384</td>\n",
       "      <td>-0.026088</td>\n",
       "      <td>0.008583</td>\n",
       "      <td>0.026175</td>\n",
       "      <td>-0.159774</td>\n",
       "      <td>0.066529</td>\n",
       "      <td>-0.039891</td>\n",
       "      <td>0.082892</td>\n",
       "      <td>0.096355</td>\n",
       "      <td>-0.013545</td>\n",
       "      <td>1.000000</td>\n",
       "      <td>0.069504</td>\n",
       "      <td>0.033082</td>\n",
       "      <td>0.039117</td>\n",
       "      <td>-0.015589</td>\n",
       "      <td>0.003059</td>\n",
       "      <td>-0.014681</td>\n",
       "      <td>-0.008721</td>\n",
       "    </tr>\n",
       "    <tr>\n",
       "      <th>not.fully.paid</th>\n",
       "      <td>-0.206146</td>\n",
       "      <td>0.223644</td>\n",
       "      <td>0.072678</td>\n",
       "      <td>-0.044947</td>\n",
       "      <td>0.052158</td>\n",
       "      <td>-0.213970</td>\n",
       "      <td>-0.040230</td>\n",
       "      <td>0.060306</td>\n",
       "      <td>0.109208</td>\n",
       "      <td>0.186103</td>\n",
       "      <td>0.012344</td>\n",
       "      <td>0.069504</td>\n",
       "      <td>1.000000</td>\n",
       "      <td>-0.071042</td>\n",
       "      <td>-0.024945</td>\n",
       "      <td>0.029553</td>\n",
       "      <td>0.010891</td>\n",
       "      <td>-0.047138</td>\n",
       "      <td>0.105809</td>\n",
       "    </tr>\n",
       "    <tr>\n",
       "      <th>purpose_credit_card</th>\n",
       "      <td>0.012499</td>\n",
       "      <td>-0.046769</td>\n",
       "      <td>0.005223</td>\n",
       "      <td>0.073074</td>\n",
       "      <td>0.071906</td>\n",
       "      <td>-0.006642</td>\n",
       "      <td>0.059275</td>\n",
       "      <td>0.046771</td>\n",
       "      <td>0.095652</td>\n",
       "      <td>-0.041326</td>\n",
       "      <td>-0.007209</td>\n",
       "      <td>0.033082</td>\n",
       "      <td>-0.071042</td>\n",
       "      <td>1.000000</td>\n",
       "      <td>-0.298613</td>\n",
       "      <td>-0.073777</td>\n",
       "      <td>-0.097540</td>\n",
       "      <td>-0.073055</td>\n",
       "      <td>-0.110453</td>\n",
       "    </tr>\n",
       "    <tr>\n",
       "      <th>purpose_debt_consolidation</th>\n",
       "      <td>0.027481</td>\n",
       "      <td>0.081180</td>\n",
       "      <td>0.111152</td>\n",
       "      <td>-0.032665</td>\n",
       "      <td>0.184976</td>\n",
       "      <td>-0.139213</td>\n",
       "      <td>-0.000850</td>\n",
       "      <td>-0.004443</td>\n",
       "      <td>0.195508</td>\n",
       "      <td>-0.054185</td>\n",
       "      <td>-0.022306</td>\n",
       "      <td>0.039117</td>\n",
       "      <td>-0.024945</td>\n",
       "      <td>-0.298613</td>\n",
       "      <td>1.000000</td>\n",
       "      <td>-0.167936</td>\n",
       "      <td>-0.222026</td>\n",
       "      <td>-0.166292</td>\n",
       "      <td>-0.251418</td>\n",
       "    </tr>\n",
       "    <tr>\n",
       "      <th>purpose_educational</th>\n",
       "      <td>-0.031752</td>\n",
       "      <td>-0.024806</td>\n",
       "      <td>-0.094806</td>\n",
       "      <td>-0.118194</td>\n",
       "      <td>-0.037461</td>\n",
       "      <td>-0.010981</td>\n",
       "      <td>-0.052087</td>\n",
       "      <td>-0.028135</td>\n",
       "      <td>-0.053620</td>\n",
       "      <td>0.030932</td>\n",
       "      <td>-0.002264</td>\n",
       "      <td>-0.015589</td>\n",
       "      <td>0.029553</td>\n",
       "      <td>-0.073777</td>\n",
       "      <td>-0.167936</td>\n",
       "      <td>1.000000</td>\n",
       "      <td>-0.054855</td>\n",
       "      <td>-0.041085</td>\n",
       "      <td>-0.062117</td>\n",
       "    </tr>\n",
       "    <tr>\n",
       "      <th>purpose_home_improvement</th>\n",
       "      <td>-0.012700</td>\n",
       "      <td>-0.036122</td>\n",
       "      <td>0.038750</td>\n",
       "      <td>0.103639</td>\n",
       "      <td>-0.094562</td>\n",
       "      <td>0.089825</td>\n",
       "      <td>0.069523</td>\n",
       "      <td>-0.011818</td>\n",
       "      <td>-0.115099</td>\n",
       "      <td>0.068217</td>\n",
       "      <td>-0.006483</td>\n",
       "      <td>0.003059</td>\n",
       "      <td>0.010891</td>\n",
       "      <td>-0.097540</td>\n",
       "      <td>-0.222026</td>\n",
       "      <td>-0.054855</td>\n",
       "      <td>1.000000</td>\n",
       "      <td>-0.054318</td>\n",
       "      <td>-0.082125</td>\n",
       "    </tr>\n",
       "    <tr>\n",
       "      <th>purpose_major_purchase</th>\n",
       "      <td>0.035328</td>\n",
       "      <td>-0.066651</td>\n",
       "      <td>-0.056235</td>\n",
       "      <td>-0.021570</td>\n",
       "      <td>-0.071255</td>\n",
       "      <td>0.063535</td>\n",
       "      <td>-0.023687</td>\n",
       "      <td>-0.055358</td>\n",
       "      <td>-0.115051</td>\n",
       "      <td>-0.004676</td>\n",
       "      <td>0.003735</td>\n",
       "      <td>-0.014681</td>\n",
       "      <td>-0.047138</td>\n",
       "      <td>-0.073055</td>\n",
       "      <td>-0.166292</td>\n",
       "      <td>-0.041085</td>\n",
       "      <td>-0.054318</td>\n",
       "      <td>1.000000</td>\n",
       "      <td>-0.061509</td>\n",
       "    </tr>\n",
       "    <tr>\n",
       "      <th>purpose_small_business</th>\n",
       "      <td>-0.007631</td>\n",
       "      <td>0.184400</td>\n",
       "      <td>0.194545</td>\n",
       "      <td>0.129640</td>\n",
       "      <td>-0.069077</td>\n",
       "      <td>0.073758</td>\n",
       "      <td>0.043965</td>\n",
       "      <td>0.110346</td>\n",
       "      <td>-0.066100</td>\n",
       "      <td>0.034446</td>\n",
       "      <td>0.027448</td>\n",
       "      <td>-0.008721</td>\n",
       "      <td>0.105809</td>\n",
       "      <td>-0.110453</td>\n",
       "      <td>-0.251418</td>\n",
       "      <td>-0.062117</td>\n",
       "      <td>-0.082125</td>\n",
       "      <td>-0.061509</td>\n",
       "      <td>1.000000</td>\n",
       "    </tr>\n",
       "  </tbody>\n",
       "</table>\n",
       "</div>"
      ],
      "text/plain": [
       "                            credit.policy  int.rate  installment  \\\n",
       "credit.policy                    1.000000 -0.290768     0.052371   \n",
       "int.rate                        -0.290768  1.000000     0.275234   \n",
       "installment                      0.052371  0.275234     1.000000   \n",
       "log.annual.inc                   0.018057  0.074567     0.478522   \n",
       "dti                             -0.105953  0.209746     0.033839   \n",
       "fico                             0.370806 -0.676966     0.106474   \n",
       "days.with.cr.line                0.088990 -0.095311     0.186938   \n",
       "revol.bal                       -0.181286  0.083931     0.254039   \n",
       "revol.util                      -0.092037  0.416246     0.057753   \n",
       "inq.last.6mths                  -0.556015  0.184093    -0.011330   \n",
       "delinq.2yrs                     -0.055963  0.147139     0.004505   \n",
       "pub.rec                         -0.053719  0.104384    -0.026088   \n",
       "not.fully.paid                  -0.206146  0.223644     0.072678   \n",
       "purpose_credit_card              0.012499 -0.046769     0.005223   \n",
       "purpose_debt_consolidation       0.027481  0.081180     0.111152   \n",
       "purpose_educational             -0.031752 -0.024806    -0.094806   \n",
       "purpose_home_improvement        -0.012700 -0.036122     0.038750   \n",
       "purpose_major_purchase           0.035328 -0.066651    -0.056235   \n",
       "purpose_small_business          -0.007631  0.184400     0.194545   \n",
       "\n",
       "                            log.annual.inc       dti      fico  \\\n",
       "credit.policy                     0.018057 -0.105953  0.370806   \n",
       "int.rate                          0.074567  0.209746 -0.676966   \n",
       "installment                       0.478522  0.033839  0.106474   \n",
       "log.annual.inc                    1.000000 -0.028855  0.110404   \n",
       "dti                              -0.028855  1.000000 -0.227315   \n",
       "fico                              0.110404 -0.227315  1.000000   \n",
       "days.with.cr.line                 0.342928  0.088388  0.255608   \n",
       "revol.bal                         0.381004  0.172293  0.011523   \n",
       "revol.util                        0.067335  0.327464 -0.493162   \n",
       "inq.last.6mths                    0.044132  0.028672 -0.195536   \n",
       "delinq.2yrs                       0.026312 -0.033092 -0.202107   \n",
       "pub.rec                           0.008583  0.026175 -0.159774   \n",
       "not.fully.paid                   -0.044947  0.052158 -0.213970   \n",
       "purpose_credit_card               0.073074  0.071906 -0.006642   \n",
       "purpose_debt_consolidation       -0.032665  0.184976 -0.139213   \n",
       "purpose_educational              -0.118194 -0.037461 -0.010981   \n",
       "purpose_home_improvement          0.103639 -0.094562  0.089825   \n",
       "purpose_major_purchase           -0.021570 -0.071255  0.063535   \n",
       "purpose_small_business            0.129640 -0.069077  0.073758   \n",
       "\n",
       "                            days.with.cr.line  revol.bal  revol.util  \\\n",
       "credit.policy                        0.088990  -0.181286   -0.092037   \n",
       "int.rate                            -0.095311   0.083931    0.416246   \n",
       "installment                          0.186938   0.254039    0.057753   \n",
       "log.annual.inc                       0.342928   0.381004    0.067335   \n",
       "dti                                  0.088388   0.172293    0.327464   \n",
       "fico                                 0.255608   0.011523   -0.493162   \n",
       "days.with.cr.line                    1.000000   0.249624    0.017341   \n",
       "revol.bal                            0.249624   1.000000    0.168432   \n",
       "revol.util                           0.017341   0.168432    1.000000   \n",
       "inq.last.6mths                      -0.023477   0.032917   -0.027395   \n",
       "delinq.2yrs                          0.085599  -0.023512   -0.049733   \n",
       "pub.rec                              0.066529  -0.039891    0.082892   \n",
       "not.fully.paid                      -0.040230   0.060306    0.109208   \n",
       "purpose_credit_card                  0.059275   0.046771    0.095652   \n",
       "purpose_debt_consolidation          -0.000850  -0.004443    0.195508   \n",
       "purpose_educational                 -0.052087  -0.028135   -0.053620   \n",
       "purpose_home_improvement             0.069523  -0.011818   -0.115099   \n",
       "purpose_major_purchase              -0.023687  -0.055358   -0.115051   \n",
       "purpose_small_business               0.043965   0.110346   -0.066100   \n",
       "\n",
       "                            inq.last.6mths  delinq.2yrs   pub.rec  \\\n",
       "credit.policy                    -0.556015    -0.055963 -0.053719   \n",
       "int.rate                          0.184093     0.147139  0.104384   \n",
       "installment                      -0.011330     0.004505 -0.026088   \n",
       "log.annual.inc                    0.044132     0.026312  0.008583   \n",
       "dti                               0.028672    -0.033092  0.026175   \n",
       "fico                             -0.195536    -0.202107 -0.159774   \n",
       "days.with.cr.line                -0.023477     0.085599  0.066529   \n",
       "revol.bal                         0.032917    -0.023512 -0.039891   \n",
       "revol.util                       -0.027395    -0.049733  0.082892   \n",
       "inq.last.6mths                    1.000000     0.008361  0.096355   \n",
       "delinq.2yrs                       0.008361     1.000000 -0.013545   \n",
       "pub.rec                           0.096355    -0.013545  1.000000   \n",
       "not.fully.paid                    0.186103     0.012344  0.069504   \n",
       "purpose_credit_card              -0.041326    -0.007209  0.033082   \n",
       "purpose_debt_consolidation       -0.054185    -0.022306  0.039117   \n",
       "purpose_educational               0.030932    -0.002264 -0.015589   \n",
       "purpose_home_improvement          0.068217    -0.006483  0.003059   \n",
       "purpose_major_purchase           -0.004676     0.003735 -0.014681   \n",
       "purpose_small_business            0.034446     0.027448 -0.008721   \n",
       "\n",
       "                            not.fully.paid  purpose_credit_card  \\\n",
       "credit.policy                    -0.206146             0.012499   \n",
       "int.rate                          0.223644            -0.046769   \n",
       "installment                       0.072678             0.005223   \n",
       "log.annual.inc                   -0.044947             0.073074   \n",
       "dti                               0.052158             0.071906   \n",
       "fico                             -0.213970            -0.006642   \n",
       "days.with.cr.line                -0.040230             0.059275   \n",
       "revol.bal                         0.060306             0.046771   \n",
       "revol.util                        0.109208             0.095652   \n",
       "inq.last.6mths                    0.186103            -0.041326   \n",
       "delinq.2yrs                       0.012344            -0.007209   \n",
       "pub.rec                           0.069504             0.033082   \n",
       "not.fully.paid                    1.000000            -0.071042   \n",
       "purpose_credit_card              -0.071042             1.000000   \n",
       "purpose_debt_consolidation       -0.024945            -0.298613   \n",
       "purpose_educational               0.029553            -0.073777   \n",
       "purpose_home_improvement          0.010891            -0.097540   \n",
       "purpose_major_purchase           -0.047138            -0.073055   \n",
       "purpose_small_business            0.105809            -0.110453   \n",
       "\n",
       "                            purpose_debt_consolidation  purpose_educational  \\\n",
       "credit.policy                                 0.027481            -0.031752   \n",
       "int.rate                                      0.081180            -0.024806   \n",
       "installment                                   0.111152            -0.094806   \n",
       "log.annual.inc                               -0.032665            -0.118194   \n",
       "dti                                           0.184976            -0.037461   \n",
       "fico                                         -0.139213            -0.010981   \n",
       "days.with.cr.line                            -0.000850            -0.052087   \n",
       "revol.bal                                    -0.004443            -0.028135   \n",
       "revol.util                                    0.195508            -0.053620   \n",
       "inq.last.6mths                               -0.054185             0.030932   \n",
       "delinq.2yrs                                  -0.022306            -0.002264   \n",
       "pub.rec                                       0.039117            -0.015589   \n",
       "not.fully.paid                               -0.024945             0.029553   \n",
       "purpose_credit_card                          -0.298613            -0.073777   \n",
       "purpose_debt_consolidation                    1.000000            -0.167936   \n",
       "purpose_educational                          -0.167936             1.000000   \n",
       "purpose_home_improvement                     -0.222026            -0.054855   \n",
       "purpose_major_purchase                       -0.166292            -0.041085   \n",
       "purpose_small_business                       -0.251418            -0.062117   \n",
       "\n",
       "                            purpose_home_improvement  purpose_major_purchase  \\\n",
       "credit.policy                              -0.012700                0.035328   \n",
       "int.rate                                   -0.036122               -0.066651   \n",
       "installment                                 0.038750               -0.056235   \n",
       "log.annual.inc                              0.103639               -0.021570   \n",
       "dti                                        -0.094562               -0.071255   \n",
       "fico                                        0.089825                0.063535   \n",
       "days.with.cr.line                           0.069523               -0.023687   \n",
       "revol.bal                                  -0.011818               -0.055358   \n",
       "revol.util                                 -0.115099               -0.115051   \n",
       "inq.last.6mths                              0.068217               -0.004676   \n",
       "delinq.2yrs                                -0.006483                0.003735   \n",
       "pub.rec                                     0.003059               -0.014681   \n",
       "not.fully.paid                              0.010891               -0.047138   \n",
       "purpose_credit_card                        -0.097540               -0.073055   \n",
       "purpose_debt_consolidation                 -0.222026               -0.166292   \n",
       "purpose_educational                        -0.054855               -0.041085   \n",
       "purpose_home_improvement                    1.000000               -0.054318   \n",
       "purpose_major_purchase                     -0.054318                1.000000   \n",
       "purpose_small_business                     -0.082125               -0.061509   \n",
       "\n",
       "                            purpose_small_business  \n",
       "credit.policy                            -0.007631  \n",
       "int.rate                                  0.184400  \n",
       "installment                               0.194545  \n",
       "log.annual.inc                            0.129640  \n",
       "dti                                      -0.069077  \n",
       "fico                                      0.073758  \n",
       "days.with.cr.line                         0.043965  \n",
       "revol.bal                                 0.110346  \n",
       "revol.util                               -0.066100  \n",
       "inq.last.6mths                            0.034446  \n",
       "delinq.2yrs                               0.027448  \n",
       "pub.rec                                  -0.008721  \n",
       "not.fully.paid                            0.105809  \n",
       "purpose_credit_card                      -0.110453  \n",
       "purpose_debt_consolidation               -0.251418  \n",
       "purpose_educational                      -0.062117  \n",
       "purpose_home_improvement                 -0.082125  \n",
       "purpose_major_purchase                   -0.061509  \n",
       "purpose_small_business                    1.000000  "
      ]
     },
     "execution_count": 26,
     "metadata": {},
     "output_type": "execute_result"
    }
   ],
   "source": [
    "final_data.corr()"
   ]
  },
  {
   "cell_type": "code",
   "execution_count": 27,
   "metadata": {
    "colab": {
     "base_uri": "https://localhost:8080/",
     "height": 856
    },
    "id": "9M4Us5huRPJm",
    "outputId": "07b955a8-95be-4c0d-ee5f-54c91d0a6484"
   },
   "outputs": [
    {
     "data": {
      "text/plain": [
       "<AxesSubplot:>"
      ]
     },
     "execution_count": 27,
     "metadata": {},
     "output_type": "execute_result"
    },
    {
     "data": {
      "image/png": "[encoded data removed]",
      "text/plain": [
       "<Figure size 1152x864 with 2 Axes>"
      ]
     },
     "metadata": {},
     "output_type": "display_data"
    }
   ],
   "source": [
    "plt.figure(figsize=[16,12])\n",
    "sns.heatmap(\n",
    "data=final_data.corr(), \n",
    "cmap='viridis', \n",
    "annot=False, \n",
    "fmt='.2g')"
   ]
  },
  {
   "cell_type": "code",
   "execution_count": 28,
   "metadata": {
    "id": "rQ9h8I8mS79h"
   },
   "outputs": [],
   "source": [
    "to_drop2 = ['revol.bal', 'days.with.cr.line', 'installment', 'revol.bal']\n",
    "final_data.drop(to_drop2, axis=1, inplace=True)"
   ]
  },
  {
   "cell_type": "code",
   "execution_count": 29,
   "metadata": {
    "colab": {
     "base_uri": "https://localhost:8080/"
    },
    "id": "r1Fsv5hdUcru",
    "outputId": "2b154cea-86f9-4232-ecf2-8471ba8fff0e"
   },
   "outputs": [
    {
     "data": {
      "text/plain": [
       "credit.policy                 0.0\n",
       "int.rate                      0.0\n",
       "log.annual.inc                0.0\n",
       "dti                           0.0\n",
       "fico                          0.0\n",
       "revol.util                    0.0\n",
       "inq.last.6mths                0.0\n",
       "delinq.2yrs                   0.0\n",
       "pub.rec                       0.0\n",
       "not.fully.paid                0.0\n",
       "purpose_credit_card           0.0\n",
       "purpose_debt_consolidation    0.0\n",
       "purpose_educational           0.0\n",
       "purpose_home_improvement      0.0\n",
       "purpose_major_purchase        0.0\n",
       "purpose_small_business        0.0\n",
       "dtype: float64"
      ]
     },
     "execution_count": 29,
     "metadata": {},
     "output_type": "execute_result"
    }
   ],
   "source": [
    "final_data.isnull().mean()"
   ]
  },
  {
   "cell_type": "code",
   "execution_count": 30,
   "metadata": {
    "id": "QwMjwOllR7bD"
   },
   "outputs": [],
   "source": [
    "to_train = final_data[final_data['not.fully.paid'].isin([0,1])]\n",
    "to_pred = final_data[final_data['not.fully.paid'] == 2]"
   ]
  },
  {
   "cell_type": "code",
   "execution_count": 31,
   "metadata": {
    "id": "Shvcnp4QSAun"
   },
   "outputs": [],
   "source": [
    "X = to_train.drop('not.fully.paid', axis=1).values\n",
    "y = to_train['not.fully.paid'].values\n",
    "\n",
    "X_train, X_test, y_train, y_test = train_test_split(X, y, test_size=0.3, random_state = 101)"
   ]
  },
  {
   "cell_type": "code",
   "execution_count": 32,
   "metadata": {
    "id": "AVBCNBHfSME-"
   },
   "outputs": [],
   "source": [
    "scaler = MinMaxScaler()\n",
    "X_train = scaler.fit_transform(X_train)\n",
    "X_test = scaler.transform(X_test)"
   ]
  },
  {
   "cell_type": "code",
   "execution_count": 33,
   "metadata": {
    "colab": {
     "base_uri": "https://localhost:8080/"
    },
    "id": "OaAie2jcSOrm",
    "outputId": "4a7d474d-c553-4ff1-c53a-78df777c922a"
   },
   "outputs": [
    {
     "data": {
      "text/plain": [
       "(11263, 15)"
      ]
     },
     "execution_count": 33,
     "metadata": {},
     "output_type": "execute_result"
    }
   ],
   "source": [
    "X_train.shape"
   ]
  },
  {
   "cell_type": "code",
   "execution_count": 34,
   "metadata": {
    "id": "ZcG7_NsgVFfg"
   },
   "outputs": [],
   "source": [
    "model = Sequential()\n",
    "model.add(Dense(94, activation='relu'))\n",
    "model.add(Dense(30, activation='relu'))\n",
    "model.add(Dense(15, activation='relu'))\n",
    "model.add(Dense(1, activation='sigmoid'))\n",
    "model.compile(optimizer='adam', \n",
    "        loss='binary_crossentropy', \n",
    "        metrics=['accuracy'])"
   ]
  },
  {
   "cell_type": "code",
   "execution_count": 35,
   "metadata": {
    "colab": {
     "base_uri": "https://localhost:8080/"
    },
    "id": "AgBZ2hUkVKyl",
    "outputId": "ed7a9ec8-0cff-47eb-cc58-8522559188cb"
   },
   "outputs": [
    {
     "name": "stdout",
     "output_type": "stream",
     "text": [
      "Epoch 1/200\n",
      "44/44 [==============================] - 1s 6ms/step - loss: 0.6769 - accuracy: 0.5940 - val_loss: 0.6636 - val_accuracy: 0.6051\n",
      "Epoch 2/200\n",
      "44/44 [==============================] - 0s 3ms/step - loss: 0.6502 - accuracy: 0.6219 - val_loss: 0.6518 - val_accuracy: 0.6155\n",
      "Epoch 3/200\n",
      "44/44 [==============================] - 0s 2ms/step - loss: 0.6424 - accuracy: 0.6301 - val_loss: 0.6487 - val_accuracy: 0.6198\n",
      "Epoch 4/200\n",
      "44/44 [==============================] - 0s 2ms/step - loss: 0.6393 - accuracy: 0.6314 - val_loss: 0.6512 - val_accuracy: 0.6095\n",
      "Epoch 5/200\n",
      "44/44 [==============================] - 0s 2ms/step - loss: 0.6383 - accuracy: 0.6313 - val_loss: 0.6487 - val_accuracy: 0.6165\n",
      "Epoch 6/200\n",
      "44/44 [==============================] - 0s 3ms/step - loss: 0.6348 - accuracy: 0.6345 - val_loss: 0.6468 - val_accuracy: 0.6176\n",
      "Epoch 7/200\n",
      "44/44 [==============================] - 0s 3ms/step - loss: 0.6329 - accuracy: 0.6381 - val_loss: 0.6454 - val_accuracy: 0.6165\n",
      "Epoch 8/200\n",
      "44/44 [==============================] - 0s 2ms/step - loss: 0.6315 - accuracy: 0.6395 - val_loss: 0.6469 - val_accuracy: 0.6227\n",
      "Epoch 9/200\n",
      "44/44 [==============================] - 0s 2ms/step - loss: 0.6302 - accuracy: 0.6322 - val_loss: 0.6421 - val_accuracy: 0.6221\n",
      "Epoch 10/200\n",
      "44/44 [==============================] - 0s 2ms/step - loss: 0.6285 - accuracy: 0.6370 - val_loss: 0.6416 - val_accuracy: 0.6252\n",
      "Epoch 11/200\n",
      "44/44 [==============================] - 0s 2ms/step - loss: 0.6276 - accuracy: 0.6404 - val_loss: 0.6438 - val_accuracy: 0.6261\n",
      "Epoch 12/200\n",
      "44/44 [==============================] - 0s 2ms/step - loss: 0.6279 - accuracy: 0.6378 - val_loss: 0.6418 - val_accuracy: 0.6279\n",
      "Epoch 13/200\n",
      "44/44 [==============================] - 0s 2ms/step - loss: 0.6263 - accuracy: 0.6400 - val_loss: 0.6404 - val_accuracy: 0.6236\n",
      "Epoch 14/200\n",
      "44/44 [==============================] - 0s 2ms/step - loss: 0.6255 - accuracy: 0.6424 - val_loss: 0.6407 - val_accuracy: 0.6230\n",
      "Epoch 15/200\n",
      "44/44 [==============================] - 0s 3ms/step - loss: 0.6236 - accuracy: 0.6417 - val_loss: 0.6393 - val_accuracy: 0.6269\n",
      "Epoch 16/200\n",
      "44/44 [==============================] - 0s 2ms/step - loss: 0.6250 - accuracy: 0.6426 - val_loss: 0.6386 - val_accuracy: 0.6279\n",
      "Epoch 17/200\n",
      "44/44 [==============================] - 0s 2ms/step - loss: 0.6221 - accuracy: 0.6459 - val_loss: 0.6377 - val_accuracy: 0.6310\n",
      "Epoch 18/200\n",
      "44/44 [==============================] - 0s 2ms/step - loss: 0.6209 - accuracy: 0.6456 - val_loss: 0.6395 - val_accuracy: 0.6333\n",
      "Epoch 19/200\n",
      "44/44 [==============================] - 0s 2ms/step - loss: 0.6200 - accuracy: 0.6496 - val_loss: 0.6370 - val_accuracy: 0.6327\n",
      "Epoch 20/200\n",
      "44/44 [==============================] - 0s 3ms/step - loss: 0.6183 - accuracy: 0.6467 - val_loss: 0.6363 - val_accuracy: 0.6352\n",
      "Epoch 21/200\n",
      "44/44 [==============================] - 0s 2ms/step - loss: 0.6169 - accuracy: 0.6512 - val_loss: 0.6361 - val_accuracy: 0.6290\n",
      "Epoch 22/200\n",
      "44/44 [==============================] - 0s 2ms/step - loss: 0.6157 - accuracy: 0.6504 - val_loss: 0.6351 - val_accuracy: 0.6288\n",
      "Epoch 23/200\n",
      "44/44 [==============================] - 0s 2ms/step - loss: 0.6153 - accuracy: 0.6516 - val_loss: 0.6357 - val_accuracy: 0.6323\n",
      "Epoch 24/200\n",
      "44/44 [==============================] - 0s 2ms/step - loss: 0.6161 - accuracy: 0.6457 - val_loss: 0.6404 - val_accuracy: 0.6256\n",
      "Epoch 25/200\n",
      "44/44 [==============================] - 0s 2ms/step - loss: 0.6130 - accuracy: 0.6517 - val_loss: 0.6348 - val_accuracy: 0.6387\n",
      "Epoch 26/200\n",
      "44/44 [==============================] - 0s 3ms/step - loss: 0.6117 - accuracy: 0.6522 - val_loss: 0.6334 - val_accuracy: 0.6296\n",
      "Epoch 27/200\n",
      "44/44 [==============================] - 0s 2ms/step - loss: 0.6112 - accuracy: 0.6517 - val_loss: 0.6341 - val_accuracy: 0.6375\n",
      "Epoch 28/200\n",
      "44/44 [==============================] - 0s 3ms/step - loss: 0.6091 - accuracy: 0.6571 - val_loss: 0.6346 - val_accuracy: 0.6283\n",
      "Epoch 29/200\n",
      "44/44 [==============================] - 0s 2ms/step - loss: 0.6095 - accuracy: 0.6560 - val_loss: 0.6342 - val_accuracy: 0.6368\n",
      "Epoch 30/200\n",
      "44/44 [==============================] - 0s 2ms/step - loss: 0.6084 - accuracy: 0.6585 - val_loss: 0.6308 - val_accuracy: 0.6341\n",
      "Epoch 31/200\n",
      "44/44 [==============================] - 0s 2ms/step - loss: 0.6069 - accuracy: 0.6560 - val_loss: 0.6349 - val_accuracy: 0.6352\n",
      "Epoch 32/200\n",
      "44/44 [==============================] - 0s 2ms/step - loss: 0.6056 - accuracy: 0.6602 - val_loss: 0.6310 - val_accuracy: 0.6470\n",
      "Epoch 33/200\n",
      "44/44 [==============================] - 0s 3ms/step - loss: 0.6046 - accuracy: 0.6603 - val_loss: 0.6324 - val_accuracy: 0.6358\n",
      "Epoch 34/200\n",
      "44/44 [==============================] - 0s 2ms/step - loss: 0.6028 - accuracy: 0.6614 - val_loss: 0.6292 - val_accuracy: 0.6372\n",
      "Epoch 35/200\n",
      "44/44 [==============================] - 0s 3ms/step - loss: 0.6007 - accuracy: 0.6679 - val_loss: 0.6313 - val_accuracy: 0.6397\n",
      "Epoch 36/200\n",
      "44/44 [==============================] - 0s 2ms/step - loss: 0.6023 - accuracy: 0.6608 - val_loss: 0.6327 - val_accuracy: 0.6422\n",
      "Epoch 37/200\n",
      "44/44 [==============================] - 0s 2ms/step - loss: 0.6015 - accuracy: 0.6635 - val_loss: 0.6267 - val_accuracy: 0.6424\n",
      "Epoch 38/200\n",
      "44/44 [==============================] - 0s 2ms/step - loss: 0.5973 - accuracy: 0.6675 - val_loss: 0.6258 - val_accuracy: 0.6470\n",
      "Epoch 39/200\n",
      "44/44 [==============================] - 0s 2ms/step - loss: 0.5971 - accuracy: 0.6646 - val_loss: 0.6300 - val_accuracy: 0.6430\n",
      "Epoch 40/200\n",
      "44/44 [==============================] - 0s 2ms/step - loss: 0.6018 - accuracy: 0.6588 - val_loss: 0.6252 - val_accuracy: 0.6426\n",
      "Epoch 41/200\n",
      "44/44 [==============================] - 0s 2ms/step - loss: 0.5946 - accuracy: 0.6716 - val_loss: 0.6278 - val_accuracy: 0.6468\n",
      "Epoch 42/200\n",
      "44/44 [==============================] - 0s 3ms/step - loss: 0.5945 - accuracy: 0.6678 - val_loss: 0.6257 - val_accuracy: 0.6430\n",
      "Epoch 43/200\n",
      "44/44 [==============================] - 0s 2ms/step - loss: 0.5924 - accuracy: 0.6703 - val_loss: 0.6263 - val_accuracy: 0.6455\n",
      "Epoch 44/200\n",
      "44/44 [==============================] - 0s 2ms/step - loss: 0.5922 - accuracy: 0.6690 - val_loss: 0.6229 - val_accuracy: 0.6484\n",
      "Epoch 45/200\n",
      "44/44 [==============================] - 0s 2ms/step - loss: 0.5919 - accuracy: 0.6691 - val_loss: 0.6219 - val_accuracy: 0.6515\n",
      "Epoch 46/200\n",
      "44/44 [==============================] - 0s 2ms/step - loss: 0.5900 - accuracy: 0.6745 - val_loss: 0.6247 - val_accuracy: 0.6408\n",
      "Epoch 47/200\n",
      "44/44 [==============================] - 0s 2ms/step - loss: 0.5878 - accuracy: 0.6743 - val_loss: 0.6258 - val_accuracy: 0.6497\n",
      "Epoch 48/200\n",
      "44/44 [==============================] - 0s 3ms/step - loss: 0.5879 - accuracy: 0.6775 - val_loss: 0.6193 - val_accuracy: 0.6551\n",
      "Epoch 49/200\n",
      "44/44 [==============================] - 0s 2ms/step - loss: 0.5847 - accuracy: 0.6797 - val_loss: 0.6236 - val_accuracy: 0.6526\n",
      "Epoch 50/200\n",
      "44/44 [==============================] - 0s 2ms/step - loss: 0.5851 - accuracy: 0.6740 - val_loss: 0.6201 - val_accuracy: 0.6474\n",
      "Epoch 51/200\n",
      "44/44 [==============================] - 0s 2ms/step - loss: 0.5894 - accuracy: 0.6711 - val_loss: 0.6248 - val_accuracy: 0.6397\n",
      "Epoch 52/200\n",
      "44/44 [==============================] - 0s 2ms/step - loss: 0.5839 - accuracy: 0.6795 - val_loss: 0.6208 - val_accuracy: 0.6559\n",
      "Epoch 53/200\n",
      "44/44 [==============================] - 0s 2ms/step - loss: 0.5801 - accuracy: 0.6813 - val_loss: 0.6218 - val_accuracy: 0.6623\n",
      "Epoch 54/200\n",
      "44/44 [==============================] - 0s 2ms/step - loss: 0.5794 - accuracy: 0.6829 - val_loss: 0.6206 - val_accuracy: 0.6551\n",
      "Epoch 55/200\n",
      "44/44 [==============================] - 0s 2ms/step - loss: 0.5799 - accuracy: 0.6786 - val_loss: 0.6198 - val_accuracy: 0.6569\n",
      "Epoch 56/200\n",
      "44/44 [==============================] - 0s 2ms/step - loss: 0.5782 - accuracy: 0.6812 - val_loss: 0.6194 - val_accuracy: 0.6536\n",
      "Epoch 57/200\n",
      "44/44 [==============================] - 0s 3ms/step - loss: 0.5780 - accuracy: 0.6781 - val_loss: 0.6172 - val_accuracy: 0.6571\n",
      "Epoch 58/200\n",
      "44/44 [==============================] - 0s 2ms/step - loss: 0.5778 - accuracy: 0.6791 - val_loss: 0.6228 - val_accuracy: 0.6412\n",
      "Epoch 59/200\n",
      "44/44 [==============================] - 0s 3ms/step - loss: 0.5766 - accuracy: 0.6802 - val_loss: 0.6193 - val_accuracy: 0.6636\n",
      "Epoch 60/200\n",
      "44/44 [==============================] - 0s 3ms/step - loss: 0.5728 - accuracy: 0.6875 - val_loss: 0.6170 - val_accuracy: 0.6617\n",
      "Epoch 61/200\n",
      "44/44 [==============================] - 0s 2ms/step - loss: 0.5722 - accuracy: 0.6855 - val_loss: 0.6137 - val_accuracy: 0.6586\n",
      "Epoch 62/200\n",
      "44/44 [==============================] - 0s 2ms/step - loss: 0.5722 - accuracy: 0.6844 - val_loss: 0.6151 - val_accuracy: 0.6590\n",
      "Epoch 63/200\n",
      "44/44 [==============================] - 0s 2ms/step - loss: 0.5700 - accuracy: 0.6902 - val_loss: 0.6152 - val_accuracy: 0.6615\n",
      "Epoch 64/200\n",
      "44/44 [==============================] - 0s 2ms/step - loss: 0.5704 - accuracy: 0.6897 - val_loss: 0.6172 - val_accuracy: 0.6665\n",
      "Epoch 65/200\n",
      "44/44 [==============================] - 0s 2ms/step - loss: 0.5683 - accuracy: 0.6921 - val_loss: 0.6150 - val_accuracy: 0.6615\n",
      "Epoch 66/200\n",
      "44/44 [==============================] - 0s 2ms/step - loss: 0.5675 - accuracy: 0.6881 - val_loss: 0.6198 - val_accuracy: 0.6578\n",
      "Epoch 67/200\n",
      "44/44 [==============================] - 0s 2ms/step - loss: 0.5678 - accuracy: 0.6919 - val_loss: 0.6148 - val_accuracy: 0.6689\n",
      "Epoch 68/200\n",
      "44/44 [==============================] - 0s 2ms/step - loss: 0.5682 - accuracy: 0.6901 - val_loss: 0.6134 - val_accuracy: 0.6675\n",
      "Epoch 69/200\n",
      "44/44 [==============================] - 0s 2ms/step - loss: 0.5657 - accuracy: 0.6959 - val_loss: 0.6143 - val_accuracy: 0.6615\n",
      "Epoch 70/200\n",
      "44/44 [==============================] - 0s 2ms/step - loss: 0.5638 - accuracy: 0.6893 - val_loss: 0.6133 - val_accuracy: 0.6687\n",
      "Epoch 71/200\n",
      "44/44 [==============================] - 0s 2ms/step - loss: 0.5634 - accuracy: 0.6961 - val_loss: 0.6161 - val_accuracy: 0.6731\n",
      "Epoch 72/200\n",
      "44/44 [==============================] - 0s 2ms/step - loss: 0.5589 - accuracy: 0.6994 - val_loss: 0.6122 - val_accuracy: 0.6553\n",
      "Epoch 73/200\n",
      "44/44 [==============================] - 0s 2ms/step - loss: 0.5614 - accuracy: 0.6966 - val_loss: 0.6153 - val_accuracy: 0.6667\n",
      "Epoch 74/200\n",
      "44/44 [==============================] - 0s 2ms/step - loss: 0.5608 - accuracy: 0.6977 - val_loss: 0.6141 - val_accuracy: 0.6636\n",
      "Epoch 75/200\n",
      "44/44 [==============================] - 0s 2ms/step - loss: 0.5583 - accuracy: 0.6987 - val_loss: 0.6109 - val_accuracy: 0.6768\n",
      "Epoch 76/200\n",
      "44/44 [==============================] - 0s 2ms/step - loss: 0.5600 - accuracy: 0.6983 - val_loss: 0.6120 - val_accuracy: 0.6698\n",
      "Epoch 77/200\n",
      "44/44 [==============================] - 0s 3ms/step - loss: 0.5571 - accuracy: 0.6973 - val_loss: 0.6140 - val_accuracy: 0.6594\n",
      "Epoch 78/200\n",
      "44/44 [==============================] - 0s 2ms/step - loss: 0.5569 - accuracy: 0.6999 - val_loss: 0.6106 - val_accuracy: 0.6735\n",
      "Epoch 79/200\n",
      "44/44 [==============================] - 0s 2ms/step - loss: 0.5556 - accuracy: 0.6993 - val_loss: 0.6130 - val_accuracy: 0.6553\n",
      "Epoch 80/200\n",
      "44/44 [==============================] - 0s 3ms/step - loss: 0.5538 - accuracy: 0.7045 - val_loss: 0.6121 - val_accuracy: 0.6621\n",
      "Epoch 81/200\n",
      "44/44 [==============================] - 0s 2ms/step - loss: 0.5513 - accuracy: 0.7056 - val_loss: 0.6105 - val_accuracy: 0.6712\n",
      "Epoch 82/200\n",
      "44/44 [==============================] - 0s 2ms/step - loss: 0.5503 - accuracy: 0.7079 - val_loss: 0.6125 - val_accuracy: 0.6743\n",
      "Epoch 83/200\n",
      "44/44 [==============================] - 0s 2ms/step - loss: 0.5490 - accuracy: 0.7078 - val_loss: 0.6124 - val_accuracy: 0.6718\n",
      "Epoch 84/200\n",
      "44/44 [==============================] - 0s 2ms/step - loss: 0.5512 - accuracy: 0.7127 - val_loss: 0.6113 - val_accuracy: 0.6654\n",
      "Epoch 85/200\n",
      "44/44 [==============================] - 0s 2ms/step - loss: 0.5487 - accuracy: 0.7059 - val_loss: 0.6104 - val_accuracy: 0.6716\n",
      "Epoch 86/200\n",
      "44/44 [==============================] - 0s 2ms/step - loss: 0.5470 - accuracy: 0.7082 - val_loss: 0.6096 - val_accuracy: 0.6669\n",
      "Epoch 87/200\n",
      "44/44 [==============================] - 0s 2ms/step - loss: 0.5482 - accuracy: 0.7034 - val_loss: 0.6101 - val_accuracy: 0.6642\n",
      "Epoch 88/200\n",
      "44/44 [==============================] - 0s 2ms/step - loss: 0.5499 - accuracy: 0.7056 - val_loss: 0.6154 - val_accuracy: 0.6683\n",
      "Epoch 89/200\n",
      "44/44 [==============================] - 0s 2ms/step - loss: 0.5453 - accuracy: 0.7083 - val_loss: 0.6097 - val_accuracy: 0.6774\n",
      "Epoch 90/200\n",
      "44/44 [==============================] - 0s 2ms/step - loss: 0.5437 - accuracy: 0.7129 - val_loss: 0.6111 - val_accuracy: 0.6638\n",
      "Epoch 91/200\n",
      "44/44 [==============================] - 0s 3ms/step - loss: 0.5447 - accuracy: 0.7106 - val_loss: 0.6113 - val_accuracy: 0.6766\n",
      "Epoch 92/200\n",
      "44/44 [==============================] - 0s 3ms/step - loss: 0.5424 - accuracy: 0.7142 - val_loss: 0.6111 - val_accuracy: 0.6723\n",
      "Epoch 93/200\n",
      "44/44 [==============================] - 0s 2ms/step - loss: 0.5432 - accuracy: 0.7117 - val_loss: 0.6075 - val_accuracy: 0.6808\n",
      "Epoch 94/200\n",
      "44/44 [==============================] - 0s 3ms/step - loss: 0.5413 - accuracy: 0.7098 - val_loss: 0.6107 - val_accuracy: 0.6768\n",
      "Epoch 95/200\n",
      "44/44 [==============================] - 0s 2ms/step - loss: 0.5441 - accuracy: 0.7082 - val_loss: 0.6137 - val_accuracy: 0.6609\n",
      "Epoch 96/200\n",
      "44/44 [==============================] - 0s 2ms/step - loss: 0.5408 - accuracy: 0.7149 - val_loss: 0.6065 - val_accuracy: 0.6789\n",
      "Epoch 97/200\n",
      "44/44 [==============================] - 0s 2ms/step - loss: 0.5387 - accuracy: 0.7170 - val_loss: 0.6130 - val_accuracy: 0.6725\n",
      "Epoch 98/200\n",
      "44/44 [==============================] - 0s 2ms/step - loss: 0.5393 - accuracy: 0.7126 - val_loss: 0.6078 - val_accuracy: 0.6710\n",
      "Epoch 99/200\n",
      "44/44 [==============================] - 0s 3ms/step - loss: 0.5359 - accuracy: 0.7156 - val_loss: 0.6134 - val_accuracy: 0.6716\n",
      "Epoch 100/200\n",
      "44/44 [==============================] - 0s 3ms/step - loss: 0.5368 - accuracy: 0.7151 - val_loss: 0.6066 - val_accuracy: 0.6745\n",
      "Epoch 101/200\n",
      "44/44 [==============================] - 0s 2ms/step - loss: 0.5380 - accuracy: 0.7140 - val_loss: 0.6061 - val_accuracy: 0.6673\n",
      "Epoch 102/200\n",
      "44/44 [==============================] - 0s 2ms/step - loss: 0.5357 - accuracy: 0.7200 - val_loss: 0.6116 - val_accuracy: 0.6785\n",
      "Epoch 103/200\n",
      "44/44 [==============================] - 0s 2ms/step - loss: 0.5338 - accuracy: 0.7214 - val_loss: 0.6077 - val_accuracy: 0.6808\n",
      "Epoch 104/200\n",
      "44/44 [==============================] - 0s 2ms/step - loss: 0.5319 - accuracy: 0.7205 - val_loss: 0.6118 - val_accuracy: 0.6781\n",
      "Epoch 105/200\n",
      "44/44 [==============================] - 0s 3ms/step - loss: 0.5348 - accuracy: 0.7197 - val_loss: 0.6037 - val_accuracy: 0.6845\n",
      "Epoch 106/200\n",
      "44/44 [==============================] - 0s 3ms/step - loss: 0.5308 - accuracy: 0.7213 - val_loss: 0.6107 - val_accuracy: 0.6741\n",
      "Epoch 107/200\n",
      "44/44 [==============================] - 0s 2ms/step - loss: 0.5306 - accuracy: 0.7223 - val_loss: 0.6112 - val_accuracy: 0.6781\n",
      "Epoch 108/200\n",
      "44/44 [==============================] - 0s 2ms/step - loss: 0.5295 - accuracy: 0.7203 - val_loss: 0.6057 - val_accuracy: 0.6799\n",
      "Epoch 109/200\n",
      "44/44 [==============================] - 0s 2ms/step - loss: 0.5298 - accuracy: 0.7212 - val_loss: 0.6046 - val_accuracy: 0.6801\n",
      "Epoch 110/200\n",
      "44/44 [==============================] - 0s 2ms/step - loss: 0.5294 - accuracy: 0.7240 - val_loss: 0.6077 - val_accuracy: 0.6849\n",
      "Epoch 111/200\n",
      "44/44 [==============================] - 0s 2ms/step - loss: 0.5278 - accuracy: 0.7255 - val_loss: 0.6102 - val_accuracy: 0.6930\n",
      "Epoch 112/200\n",
      "44/44 [==============================] - 0s 3ms/step - loss: 0.5255 - accuracy: 0.7238 - val_loss: 0.6103 - val_accuracy: 0.6880\n",
      "Epoch 113/200\n",
      "44/44 [==============================] - 0s 2ms/step - loss: 0.5246 - accuracy: 0.7290 - val_loss: 0.6061 - val_accuracy: 0.6845\n",
      "Epoch 114/200\n",
      "44/44 [==============================] - 0s 2ms/step - loss: 0.5269 - accuracy: 0.7232 - val_loss: 0.6092 - val_accuracy: 0.6814\n",
      "Epoch 115/200\n",
      "44/44 [==============================] - 0s 2ms/step - loss: 0.5309 - accuracy: 0.7186 - val_loss: 0.6069 - val_accuracy: 0.6737\n",
      "Epoch 116/200\n",
      "44/44 [==============================] - 0s 2ms/step - loss: 0.5249 - accuracy: 0.7252 - val_loss: 0.6085 - val_accuracy: 0.6866\n",
      "Epoch 117/200\n",
      "44/44 [==============================] - 0s 3ms/step - loss: 0.5216 - accuracy: 0.7257 - val_loss: 0.6064 - val_accuracy: 0.6772\n",
      "Epoch 118/200\n",
      "44/44 [==============================] - 0s 3ms/step - loss: 0.5208 - accuracy: 0.7272 - val_loss: 0.6046 - val_accuracy: 0.6884\n",
      "Epoch 119/200\n",
      "44/44 [==============================] - 0s 3ms/step - loss: 0.5219 - accuracy: 0.7277 - val_loss: 0.6142 - val_accuracy: 0.6950\n",
      "Epoch 120/200\n",
      "44/44 [==============================] - 0s 2ms/step - loss: 0.5201 - accuracy: 0.7337 - val_loss: 0.6045 - val_accuracy: 0.6853\n",
      "Epoch 121/200\n",
      "44/44 [==============================] - 0s 3ms/step - loss: 0.5215 - accuracy: 0.7268 - val_loss: 0.6068 - val_accuracy: 0.6868\n",
      "Epoch 122/200\n",
      "44/44 [==============================] - 0s 3ms/step - loss: 0.5220 - accuracy: 0.7257 - val_loss: 0.6135 - val_accuracy: 0.6841\n",
      "Epoch 123/200\n",
      "44/44 [==============================] - 0s 2ms/step - loss: 0.5183 - accuracy: 0.7292 - val_loss: 0.6016 - val_accuracy: 0.6932\n",
      "Epoch 124/200\n",
      "44/44 [==============================] - 0s 3ms/step - loss: 0.5174 - accuracy: 0.7322 - val_loss: 0.6084 - val_accuracy: 0.6913\n",
      "Epoch 125/200\n",
      "44/44 [==============================] - 0s 2ms/step - loss: 0.5148 - accuracy: 0.7349 - val_loss: 0.6139 - val_accuracy: 0.6810\n",
      "Epoch 126/200\n",
      "44/44 [==============================] - 0s 2ms/step - loss: 0.5187 - accuracy: 0.7308 - val_loss: 0.6068 - val_accuracy: 0.6919\n",
      "Epoch 127/200\n",
      "44/44 [==============================] - 0s 3ms/step - loss: 0.5148 - accuracy: 0.7359 - val_loss: 0.6007 - val_accuracy: 0.6911\n",
      "Epoch 128/200\n",
      "44/44 [==============================] - 0s 3ms/step - loss: 0.5178 - accuracy: 0.7270 - val_loss: 0.6094 - val_accuracy: 0.6849\n",
      "Epoch 129/200\n",
      "44/44 [==============================] - 0s 3ms/step - loss: 0.5143 - accuracy: 0.7347 - val_loss: 0.6037 - val_accuracy: 0.6801\n",
      "Epoch 130/200\n",
      "44/44 [==============================] - 0s 3ms/step - loss: 0.5124 - accuracy: 0.7337 - val_loss: 0.6051 - val_accuracy: 0.6921\n",
      "Epoch 131/200\n",
      "44/44 [==============================] - 0s 3ms/step - loss: 0.5124 - accuracy: 0.7370 - val_loss: 0.6029 - val_accuracy: 0.6888\n",
      "Epoch 132/200\n",
      "44/44 [==============================] - 0s 3ms/step - loss: 0.5112 - accuracy: 0.7357 - val_loss: 0.6006 - val_accuracy: 0.6988\n",
      "Epoch 133/200\n",
      "44/44 [==============================] - 0s 2ms/step - loss: 0.5155 - accuracy: 0.7321 - val_loss: 0.6031 - val_accuracy: 0.6944\n",
      "Epoch 134/200\n",
      "44/44 [==============================] - 0s 3ms/step - loss: 0.5108 - accuracy: 0.7348 - val_loss: 0.6103 - val_accuracy: 0.6783\n",
      "Epoch 135/200\n",
      "44/44 [==============================] - 0s 3ms/step - loss: 0.5116 - accuracy: 0.7356 - val_loss: 0.6097 - val_accuracy: 0.6897\n",
      "Epoch 136/200\n",
      "44/44 [==============================] - 0s 2ms/step - loss: 0.5086 - accuracy: 0.7362 - val_loss: 0.6094 - val_accuracy: 0.6839\n",
      "Epoch 137/200\n",
      "44/44 [==============================] - 0s 2ms/step - loss: 0.5083 - accuracy: 0.7384 - val_loss: 0.6099 - val_accuracy: 0.6928\n",
      "Epoch 138/200\n",
      "44/44 [==============================] - 0s 2ms/step - loss: 0.5062 - accuracy: 0.7388 - val_loss: 0.6017 - val_accuracy: 0.6834\n",
      "Epoch 139/200\n",
      "44/44 [==============================] - 0s 3ms/step - loss: 0.5087 - accuracy: 0.7346 - val_loss: 0.6141 - val_accuracy: 0.6969\n",
      "Epoch 140/200\n",
      "44/44 [==============================] - 0s 2ms/step - loss: 0.5075 - accuracy: 0.7367 - val_loss: 0.6013 - val_accuracy: 0.6946\n",
      "Epoch 141/200\n",
      "44/44 [==============================] - 0s 3ms/step - loss: 0.5049 - accuracy: 0.7391 - val_loss: 0.6007 - val_accuracy: 0.6934\n",
      "Epoch 142/200\n",
      "44/44 [==============================] - 0s 2ms/step - loss: 0.5033 - accuracy: 0.7376 - val_loss: 0.6030 - val_accuracy: 0.6921\n",
      "Epoch 143/200\n",
      "44/44 [==============================] - 0s 2ms/step - loss: 0.5060 - accuracy: 0.7383 - val_loss: 0.6071 - val_accuracy: 0.6897\n",
      "Epoch 144/200\n",
      "44/44 [==============================] - 0s 3ms/step - loss: 0.5069 - accuracy: 0.7334 - val_loss: 0.6065 - val_accuracy: 0.6909\n",
      "Epoch 145/200\n",
      "44/44 [==============================] - 0s 2ms/step - loss: 0.5008 - accuracy: 0.7423 - val_loss: 0.6008 - val_accuracy: 0.6971\n",
      "Epoch 146/200\n",
      "44/44 [==============================] - 0s 2ms/step - loss: 0.5026 - accuracy: 0.7372 - val_loss: 0.6049 - val_accuracy: 0.6868\n",
      "Epoch 147/200\n",
      "44/44 [==============================] - 0s 3ms/step - loss: 0.5033 - accuracy: 0.7346 - val_loss: 0.6066 - val_accuracy: 0.6766\n",
      "Epoch 148/200\n",
      "44/44 [==============================] - 0s 2ms/step - loss: 0.5044 - accuracy: 0.7358 - val_loss: 0.5984 - val_accuracy: 0.6957\n",
      "Epoch 149/200\n",
      "44/44 [==============================] - 0s 2ms/step - loss: 0.5070 - accuracy: 0.7359 - val_loss: 0.6114 - val_accuracy: 0.6768\n",
      "Epoch 150/200\n",
      "44/44 [==============================] - 0s 2ms/step - loss: 0.5015 - accuracy: 0.7415 - val_loss: 0.6071 - val_accuracy: 0.7029\n",
      "Epoch 151/200\n",
      "44/44 [==============================] - 0s 2ms/step - loss: 0.4994 - accuracy: 0.7406 - val_loss: 0.5993 - val_accuracy: 0.6950\n",
      "Epoch 152/200\n",
      "44/44 [==============================] - 0s 2ms/step - loss: 0.4965 - accuracy: 0.7423 - val_loss: 0.5986 - val_accuracy: 0.6967\n",
      "Epoch 153/200\n",
      "44/44 [==============================] - 0s 3ms/step - loss: 0.5024 - accuracy: 0.7371 - val_loss: 0.6098 - val_accuracy: 0.6886\n",
      "Epoch 154/200\n",
      "44/44 [==============================] - 0s 2ms/step - loss: 0.4963 - accuracy: 0.7461 - val_loss: 0.6019 - val_accuracy: 0.6863\n",
      "Epoch 155/200\n",
      "44/44 [==============================] - 0s 2ms/step - loss: 0.4953 - accuracy: 0.7428 - val_loss: 0.6031 - val_accuracy: 0.6830\n",
      "Epoch 156/200\n",
      "44/44 [==============================] - 0s 3ms/step - loss: 0.5009 - accuracy: 0.7399 - val_loss: 0.5991 - val_accuracy: 0.6955\n",
      "Epoch 157/200\n",
      "44/44 [==============================] - 0s 4ms/step - loss: 0.4970 - accuracy: 0.7419 - val_loss: 0.6055 - val_accuracy: 0.6973\n",
      "Epoch 158/200\n",
      "44/44 [==============================] - 0s 3ms/step - loss: 0.4929 - accuracy: 0.7465 - val_loss: 0.5988 - val_accuracy: 0.6982\n",
      "Epoch 159/200\n",
      "44/44 [==============================] - 0s 3ms/step - loss: 0.4996 - accuracy: 0.7402 - val_loss: 0.6046 - val_accuracy: 0.6932\n",
      "Epoch 160/200\n",
      "44/44 [==============================] - 0s 3ms/step - loss: 0.5005 - accuracy: 0.7370 - val_loss: 0.6164 - val_accuracy: 0.6866\n",
      "Epoch 161/200\n",
      "44/44 [==============================] - 0s 3ms/step - loss: 0.4980 - accuracy: 0.7445 - val_loss: 0.6000 - val_accuracy: 0.7040\n",
      "Epoch 162/200\n",
      "44/44 [==============================] - 0s 3ms/step - loss: 0.4910 - accuracy: 0.7466 - val_loss: 0.6059 - val_accuracy: 0.6988\n",
      "Epoch 163/200\n",
      "44/44 [==============================] - 0s 3ms/step - loss: 0.4923 - accuracy: 0.7471 - val_loss: 0.6016 - val_accuracy: 0.6973\n",
      "Epoch 164/200\n",
      "44/44 [==============================] - 0s 3ms/step - loss: 0.4956 - accuracy: 0.7448 - val_loss: 0.6126 - val_accuracy: 0.6841\n",
      "Epoch 165/200\n",
      "44/44 [==============================] - 0s 3ms/step - loss: 0.4896 - accuracy: 0.7461 - val_loss: 0.5971 - val_accuracy: 0.7029\n",
      "Epoch 166/200\n",
      "44/44 [==============================] - 0s 3ms/step - loss: 0.4900 - accuracy: 0.7486 - val_loss: 0.6005 - val_accuracy: 0.7040\n",
      "Epoch 167/200\n",
      "44/44 [==============================] - 0s 3ms/step - loss: 0.4912 - accuracy: 0.7477 - val_loss: 0.5998 - val_accuracy: 0.6986\n",
      "Epoch 168/200\n",
      "44/44 [==============================] - 0s 3ms/step - loss: 0.4876 - accuracy: 0.7488 - val_loss: 0.6040 - val_accuracy: 0.6911\n",
      "Epoch 169/200\n",
      "44/44 [==============================] - 0s 3ms/step - loss: 0.4870 - accuracy: 0.7526 - val_loss: 0.6029 - val_accuracy: 0.6926\n",
      "Epoch 170/200\n",
      "44/44 [==============================] - 0s 3ms/step - loss: 0.4877 - accuracy: 0.7527 - val_loss: 0.6057 - val_accuracy: 0.6967\n",
      "Epoch 171/200\n",
      "44/44 [==============================] - 0s 3ms/step - loss: 0.4871 - accuracy: 0.7502 - val_loss: 0.6144 - val_accuracy: 0.6936\n",
      "Epoch 172/200\n",
      "44/44 [==============================] - 0s 3ms/step - loss: 0.4890 - accuracy: 0.7474 - val_loss: 0.5947 - val_accuracy: 0.7073\n",
      "Epoch 173/200\n",
      "44/44 [==============================] - 0s 2ms/step - loss: 0.4880 - accuracy: 0.7449 - val_loss: 0.6012 - val_accuracy: 0.7013\n",
      "Epoch 174/200\n",
      "44/44 [==============================] - 0s 3ms/step - loss: 0.4812 - accuracy: 0.7542 - val_loss: 0.6064 - val_accuracy: 0.6903\n",
      "Epoch 175/200\n",
      "44/44 [==============================] - 0s 3ms/step - loss: 0.4836 - accuracy: 0.7514 - val_loss: 0.6066 - val_accuracy: 0.7071\n",
      "Epoch 176/200\n",
      "44/44 [==============================] - 0s 3ms/step - loss: 0.4812 - accuracy: 0.7539 - val_loss: 0.5983 - val_accuracy: 0.7037\n",
      "Epoch 177/200\n",
      "44/44 [==============================] - 0s 3ms/step - loss: 0.4843 - accuracy: 0.7497 - val_loss: 0.6004 - val_accuracy: 0.6986\n",
      "Epoch 178/200\n",
      "44/44 [==============================] - 0s 2ms/step - loss: 0.4848 - accuracy: 0.7493 - val_loss: 0.6103 - val_accuracy: 0.7019\n",
      "Epoch 179/200\n",
      "44/44 [==============================] - 0s 2ms/step - loss: 0.4877 - accuracy: 0.7473 - val_loss: 0.6041 - val_accuracy: 0.6982\n",
      "Epoch 180/200\n",
      "44/44 [==============================] - 0s 2ms/step - loss: 0.4827 - accuracy: 0.7518 - val_loss: 0.6058 - val_accuracy: 0.7050\n",
      "Epoch 181/200\n",
      "44/44 [==============================] - 0s 2ms/step - loss: 0.4843 - accuracy: 0.7528 - val_loss: 0.6120 - val_accuracy: 0.7015\n",
      "Epoch 182/200\n",
      "44/44 [==============================] - 0s 2ms/step - loss: 0.4766 - accuracy: 0.7573 - val_loss: 0.6054 - val_accuracy: 0.6969\n",
      "Epoch 183/200\n",
      "44/44 [==============================] - 0s 2ms/step - loss: 0.4807 - accuracy: 0.7553 - val_loss: 0.6006 - val_accuracy: 0.7064\n",
      "Epoch 184/200\n",
      "44/44 [==============================] - 0s 3ms/step - loss: 0.4787 - accuracy: 0.7527 - val_loss: 0.6055 - val_accuracy: 0.7025\n",
      "Epoch 185/200\n",
      "44/44 [==============================] - 0s 2ms/step - loss: 0.4821 - accuracy: 0.7518 - val_loss: 0.6006 - val_accuracy: 0.6982\n",
      "Epoch 186/200\n",
      "44/44 [==============================] - 0s 2ms/step - loss: 0.4773 - accuracy: 0.7571 - val_loss: 0.6041 - val_accuracy: 0.7046\n",
      "Epoch 187/200\n",
      "44/44 [==============================] - 0s 2ms/step - loss: 0.4785 - accuracy: 0.7569 - val_loss: 0.6063 - val_accuracy: 0.7089\n",
      "Epoch 188/200\n",
      "44/44 [==============================] - 0s 3ms/step - loss: 0.4804 - accuracy: 0.7538 - val_loss: 0.6002 - val_accuracy: 0.7035\n",
      "Epoch 189/200\n",
      "44/44 [==============================] - 0s 2ms/step - loss: 0.4764 - accuracy: 0.7532 - val_loss: 0.5985 - val_accuracy: 0.7064\n",
      "Epoch 190/200\n",
      "44/44 [==============================] - 0s 2ms/step - loss: 0.4767 - accuracy: 0.7572 - val_loss: 0.5995 - val_accuracy: 0.7025\n",
      "Epoch 191/200\n",
      "44/44 [==============================] - 0s 3ms/step - loss: 0.4734 - accuracy: 0.7604 - val_loss: 0.6086 - val_accuracy: 0.7091\n",
      "Epoch 192/200\n",
      "44/44 [==============================] - 0s 3ms/step - loss: 0.4790 - accuracy: 0.7508 - val_loss: 0.6197 - val_accuracy: 0.6791\n",
      "Epoch 193/200\n",
      "44/44 [==============================] - 0s 2ms/step - loss: 0.4828 - accuracy: 0.7464 - val_loss: 0.6362 - val_accuracy: 0.6938\n",
      "Epoch 194/200\n",
      "44/44 [==============================] - 0s 2ms/step - loss: 0.4752 - accuracy: 0.7570 - val_loss: 0.6076 - val_accuracy: 0.7058\n",
      "Epoch 195/200\n",
      "44/44 [==============================] - 0s 3ms/step - loss: 0.4731 - accuracy: 0.7583 - val_loss: 0.6171 - val_accuracy: 0.7085\n",
      "Epoch 196/200\n",
      "44/44 [==============================] - 0s 3ms/step - loss: 0.4741 - accuracy: 0.7615 - val_loss: 0.5976 - val_accuracy: 0.7071\n",
      "Epoch 197/200\n",
      "44/44 [==============================] - 0s 3ms/step - loss: 0.4713 - accuracy: 0.7594 - val_loss: 0.5974 - val_accuracy: 0.7071\n",
      "Epoch 197: early stopping\n"
     ]
    },
    {
     "data": {
      "text/plain": [
       "<keras.callbacks.History at 0x7f381ab29590>"
      ]
     },
     "execution_count": 35,
     "metadata": {},
     "output_type": "execute_result"
    }
   ],
   "source": [
    "early_stop = EarlyStopping(monitor='val_loss',mode='min', verbose=1,patience=25)\n",
    "model.fit(\n",
    "        X_train, \n",
    "        y_train, \n",
    "        epochs=200, \n",
    "        batch_size=256, \n",
    "        validation_data=(X_test, y_test),\n",
    "         callbacks=[early_stop]\n",
    ")"
   ]
  },
  {
   "cell_type": "code",
   "execution_count": 36,
   "metadata": {
    "colab": {
     "base_uri": "https://localhost:8080/",
     "height": 282
    },
    "id": "82Wd8o-vVPid",
    "outputId": "fda2db81-fa57-4009-aa23-6f531765a92e"
   },
   "outputs": [
    {
     "data": {
      "text/plain": [
       "<AxesSubplot:>"
      ]
     },
     "execution_count": 36,
     "metadata": {},
     "output_type": "execute_result"
    },
    {
     "data": {
      "image/png": "[encoded data removed]",
      "text/plain": [
       "<Figure size 432x288 with 1 Axes>"
      ]
     },
     "metadata": {},
     "output_type": "display_data"
    }
   ],
   "source": [
    "pd.DataFrame(model.history.history)[['loss','val_loss']].plot() #over fitting "
   ]
  },
  {
   "cell_type": "code",
   "execution_count": 39,
   "metadata": {
    "colab": {
     "base_uri": "https://localhost:8080/"
    },
    "id": "5d0ZKtYGVYal",
    "outputId": "fd2d69a9-68f5-43b5-dbd0-4179f6cf75da"
   },
   "outputs": [
    {
     "ename": "AttributeError",
     "evalue": "'Sequential' object has no attribute 'predictioins_classes'",
     "output_type": "error",
     "traceback": [
      "\u001b[0;31m---------------------------------------------------------------------------\u001b[0m",
      "\u001b[0;31mAttributeError\u001b[0m                            Traceback (most recent call last)",
      "\u001b[0;32m<ipython-input-41-b4d7762e2ec3>\u001b[0m in \u001b[0;36m<module>\u001b[0;34m\u001b[0m\n\u001b[0;32m----> 1\u001b[0;31m \u001b[0mpredictions_classes\u001b[0m \u001b[0;34m=\u001b[0m \u001b[0mmodel\u001b[0m\u001b[0;34m.\u001b[0m\u001b[0mpredictioins_classes\u001b[0m\u001b[0;34m(\u001b[0m\u001b[0mX_test\u001b[0m\u001b[0;34m)\u001b[0m\u001b[0;34m,\u001b[0m\u001b[0;34m\u001b[0m\u001b[0;34m\u001b[0m\u001b[0m\n\u001b[0m\u001b[1;32m      2\u001b[0m \u001b[0mprint\u001b[0m\u001b[0;34m(\u001b[0m\u001b[0mconfusion_matrix\u001b[0m\u001b[0;34m(\u001b[0m\u001b[0my_test\u001b[0m\u001b[0;34m,\u001b[0m\u001b[0mpredictions\u001b[0m\u001b[0;34m)\u001b[0m\u001b[0;34m,\u001b[0m\u001b[0;34m'\\n'\u001b[0m\u001b[0;34m,\u001b[0m\u001b[0mclassification_report\u001b[0m\u001b[0;34m(\u001b[0m\u001b[0my_test\u001b[0m\u001b[0;34m,\u001b[0m\u001b[0mpredictions\u001b[0m\u001b[0;34m)\u001b[0m\u001b[0;34m)\u001b[0m\u001b[0;34m\u001b[0m\u001b[0;34m\u001b[0m\u001b[0m\n",
      "\u001b[0;31mAttributeError\u001b[0m: 'Sequential' object has no attribute 'predictioins_classes'"
     ]
    }
   ],
   "source": [
    "predictions_classes = model.predict_classes(X_test),\n",
    "print(confusion_matrix(y_test,predictions),'\\n',classification_report(y_test,predictions))"
   ]
  },
  {
   "cell_type": "code",
   "execution_count": null,
   "metadata": {
    "colab": {
     "base_uri": "https://localhost:8080/"
    },
    "id": "4tDMxE_tVemO",
    "outputId": "5208ddc7-4eee-4d3a-ba6f-40ed377addf3"
   },
   "outputs": [],
   "source": [
    "model_new = Sequential()\n",
    "model_new.add(Dense(94, activation='relu'))\n",
    "model_new.add(Dropout(0.2))\n",
    "model_new.add(\n",
    "Dense(30, activation='relu'))\n",
    "model_new.add(Dropout(0.2))\n",
    "model_new.add(Dense(15, activation='relu'))\n",
    "model_new.add(Dropout(0.2))\n",
    "model_new.add(Dense(1, activation='sigmoid'))\n",
    "model_new.compile(\n",
    "optimizer='adam', \n",
    "loss='binary_crossentropy',metrics=['binary_accuracy'])\n",
    "model_new.fit(\n",
    "        X_train, \n",
    "        y_train, \n",
    "        epochs=200, \n",
    "        batch_size=256, \n",
    "        validation_data=(X_test, y_test),\n",
    "         callbacks=[early_stop])"
   ]
  },
  {
   "cell_type": "code",
   "execution_count": null,
   "metadata": {
    "colab": {
     "base_uri": "https://localhost:8080/",
     "height": 282
    },
    "id": "jF66RsXbVkFV",
    "outputId": "8ce92d83-9dc5-4b91-8852-edacb2da3abd"
   },
   "outputs": [],
   "source": [
    "pd.DataFrame(model_new.history.history)[['loss','val_loss']].plot()"
   ]
  },
  {
   "cell_type": "code",
   "execution_count": null,
   "metadata": {
    "colab": {
     "base_uri": "https://localhost:8080/"
    },
    "id": "AKfzO7NxVqlF",
    "outputId": "f0bf583c-cd2b-4f16-e822-e4a54f74eeba"
   },
   "outputs": [],
   "source": [
    "predictions_new = (model_new.predict_proba(X_test) >= 0.2).astype('int')\n",
    "print(confusion_matrix(y_test,predictions_new),'\\n',classification_report(y_test,predictions_new))"
   ]
  },
  {
   "cell_type": "code",
   "execution_count": null,
   "metadata": {
    "id": "i_B5YLjJV1AV"
   },
   "outputs": [],
   "source": [
    "dump(scaler, open('scaler.pkl', 'wb'))\n",
    "model_new.save('my_model_lending_club.h5')"
   ]
  },
  {
   "cell_type": "code",
   "execution_count": null,
   "metadata": {
    "id": "37Nhj_JRV4PV"
   },
   "outputs": [],
   "source": [
    "later_scaler = load(open('scaler.pkl', 'rb'))\n",
    "later_model = load_model('my_model_lending_club.h5')"
   ]
  },
  {
   "cell_type": "code",
   "execution_count": null,
   "metadata": {
    "colab": {
     "base_uri": "https://localhost:8080/"
    },
    "id": "S-TAxP3OWPcl",
    "outputId": "33705fd8-11ee-4178-917f-69994b81547f"
   },
   "outputs": [],
   "source": [
    "X_OOT = to_pred.drop('not.fully.paid', axis=1).values\n",
    "to_pred.drop('not.fully.paid', axis=1).values\n",
    "\n",
    "print(X_OOT.shape)"
   ]
  },
  {
   "cell_type": "code",
   "execution_count": null,
   "metadata": {
    "id": "mmWaKZ_gZ0UD"
   },
   "outputs": [],
   "source": []
  },
  {
   "cell_type": "code",
   "execution_count": null,
   "metadata": {
    "id": "QOMVEPGAVwl1"
   },
   "outputs": [],
   "source": [
    "\n"
   ]
  },
  {
   "cell_type": "code",
   "execution_count": null,
   "metadata": {
    "id": "3M-9kCkGaRDW"
   },
   "outputs": [],
   "source": []
  }
 ],
 "metadata": {
  "colab": {
   "collapsed_sections": [],
   "name": "Lending Club _ Final_Copy.ipynb",
   "provenance": []
  },
  "kernelspec": {
   "display_name": "Python 3",
   "language": "python",
   "name": "python3"
  },
  "language_info": {
   "codemirror_mode": {
    "name": "ipython",
    "version": 3
   },
   "file_extension": ".py",
   "mimetype": "text/x-python",
   "name": "python",
   "nbconvert_exporter": "python",
   "pygments_lexer": "ipython3",
   "version": "3.7.6"
  }
 },
 "nbformat": 4,
 "nbformat_minor": 4
}
